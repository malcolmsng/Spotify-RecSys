{
 "cells": [
  {
   "cell_type": "markdown",
   "metadata": {},
   "source": [
    "## LightGCN"
   ]
  },
  {
   "cell_type": "markdown",
   "metadata": {},
   "source": [
    "pure collaborative filtering LightGCN"
   ]
  },
  {
   "cell_type": "code",
   "execution_count": 1,
   "metadata": {},
   "outputs": [
    {
     "name": "stdout",
     "output_type": "stream",
     "text": [
      "WARNING:tensorflow:From C:\\Users\\darvi\\AppData\\Local\\Packages\\PythonSoftwareFoundation.Python.3.8_qbz5n2kfra8p0\\LocalCache\\local-packages\\Python38\\site-packages\\tensorflow\\python\\compat\\v2_compat.py:96: disable_resource_variables (from tensorflow.python.ops.variable_scope) is deprecated and will be removed in a future version.\n",
      "Instructions for updating:\n",
      "non-resource variables are not supported in the long term\n"
     ]
    }
   ],
   "source": [
    "import numpy as np\n",
    "import pandas as pd\n",
    "from libreco.data import random_split, DatasetPure\n",
    "from libreco.algorithms import LightGCN  # pure data, algorithm LightGCN\n",
    "from libreco.evaluation import evaluate"
   ]
  },
  {
   "cell_type": "code",
   "execution_count": 2,
   "metadata": {},
   "outputs": [
    {
     "data": {
      "text/plain": [
       "user       861\n",
       "item     58320\n",
       "label        1\n",
       "song     56714\n",
       "dtype: int64"
      ]
     },
     "execution_count": 2,
     "metadata": {},
     "output_type": "execute_result"
    }
   ],
   "source": [
    "df = pd.read_csv(\"cf_initial.csv\")\n",
    "df= df.rename(columns={\"userID\":\"user\", 'itemID':\"item\", \"rating\":\"label\", \"song_by\": \"song\"})\n",
    "df=df[[\"user\",\"item\",\"label\",\"song\"]]\n",
    "df.nunique()"
   ]
  },
  {
   "cell_type": "code",
   "execution_count": 3,
   "metadata": {},
   "outputs": [
    {
     "name": "stdout",
     "output_type": "stream",
     "text": [
      "n_users: 861, n_items: 48529, data density: 0.1596 %\n"
     ]
    }
   ],
   "source": [
    "# split whole data into three folds for training, evaluating and testing\n",
    "train_data, eval_data, test_data = random_split(df, multi_ratios=[0.8, 0.1, 0.1])\n",
    "\n",
    "train_data, data_info = DatasetPure.build_trainset(train_data)\n",
    "eval_data = DatasetPure.build_evalset(eval_data)\n",
    "test_data = DatasetPure.build_testset(test_data)\n",
    "print(data_info)"
   ]
  },
  {
   "cell_type": "code",
   "execution_count": 11,
   "metadata": {},
   "outputs": [],
   "source": [
    "lightgcn = LightGCN(\n",
    "    task=\"ranking\",\n",
    "    data_info=data_info,\n",
    "    loss_type=\"bpr\",\n",
    "    embed_size=16,\n",
    "    n_epochs=2,\n",
    "    lr=1e-3,\n",
    "    batch_size=50,\n",
    "    num_neg=1,\n",
    "    device=\"cuda\",\n",
    ")"
   ]
  },
  {
   "cell_type": "code",
   "execution_count": 27,
   "metadata": {},
   "outputs": [
    {
     "name": "stderr",
     "output_type": "stream",
     "text": [
      "[I 2023-11-15 00:28:09,305] A new study created in memory with name: no-name-6baae4ce-8ffe-4dd2-a2ff-8d86f164d185\n"
     ]
    },
    {
     "name": "stdout",
     "output_type": "stream",
     "text": [
      "Training start time: \u001b[35m2023-11-15 00:28:09\u001b[0m\n"
     ]
    },
    {
     "name": "stderr",
     "output_type": "stream",
     "text": [
      "train: 100%|██████████| 282/282 [02:44<00:00,  1.71it/s]\n"
     ]
    },
    {
     "name": "stdout",
     "output_type": "stream",
     "text": [
      "Epoch 1 elapsed: 164.766s\n",
      "\t \u001b[32mtrain_loss: 0.0779\u001b[0m\n"
     ]
    },
    {
     "name": "stderr",
     "output_type": "stream",
     "text": [
      "eval_pointwise: 100%|██████████| 1/1 [00:00<00:00, 116.83it/s]\n",
      "eval_listwise: 100%|██████████| 679/679 [00:01<00:00, 510.99it/s]\n"
     ]
    },
    {
     "name": "stdout",
     "output_type": "stream",
     "text": [
      "\t eval log_loss: 0.4879\n",
      "\t eval roc_auc: 0.9511\n",
      "\t eval precision@10: 0.0355\n",
      "\t eval recall@10: 0.0696\n",
      "\t eval ndcg@10: 0.1400\n",
      "==============================\n"
     ]
    },
    {
     "name": "stderr",
     "output_type": "stream",
     "text": [
      "train: 100%|██████████| 282/282 [02:46<00:00,  1.70it/s]\n"
     ]
    },
    {
     "name": "stdout",
     "output_type": "stream",
     "text": [
      "Epoch 2 elapsed: 166.320s\n",
      "\t \u001b[32mtrain_loss: 0.0057\u001b[0m\n"
     ]
    },
    {
     "name": "stderr",
     "output_type": "stream",
     "text": [
      "eval_pointwise: 100%|██████████| 1/1 [00:00<00:00, 117.50it/s]\n",
      "eval_listwise: 100%|██████████| 679/679 [00:01<00:00, 509.23it/s]\n"
     ]
    },
    {
     "name": "stdout",
     "output_type": "stream",
     "text": [
      "\t eval log_loss: 0.4991\n",
      "\t eval roc_auc: 0.9499\n",
      "\t eval precision@10: 0.0405\n",
      "\t eval recall@10: 0.0736\n",
      "\t eval ndcg@10: 0.1498\n",
      "==============================\n"
     ]
    },
    {
     "name": "stderr",
     "output_type": "stream",
     "text": [
      "train: 100%|██████████| 282/282 [02:45<00:00,  1.71it/s]\n"
     ]
    },
    {
     "name": "stdout",
     "output_type": "stream",
     "text": [
      "Epoch 3 elapsed: 165.133s\n",
      "\t \u001b[32mtrain_loss: 0.0039\u001b[0m\n"
     ]
    },
    {
     "name": "stderr",
     "output_type": "stream",
     "text": [
      "eval_pointwise: 100%|██████████| 1/1 [00:00<00:00, 83.97it/s]\n",
      "eval_listwise: 100%|██████████| 679/679 [00:01<00:00, 479.09it/s]\n"
     ]
    },
    {
     "name": "stdout",
     "output_type": "stream",
     "text": [
      "\t eval log_loss: 0.5019\n",
      "\t eval roc_auc: 0.9505\n",
      "\t eval precision@10: 0.0378\n",
      "\t eval recall@10: 0.0702\n",
      "\t eval ndcg@10: 0.1471\n",
      "==============================\n"
     ]
    },
    {
     "name": "stderr",
     "output_type": "stream",
     "text": [
      "train: 100%|██████████| 282/282 [02:42<00:00,  1.73it/s]\n"
     ]
    },
    {
     "name": "stdout",
     "output_type": "stream",
     "text": [
      "Epoch 4 elapsed: 162.776s\n",
      "\t \u001b[32mtrain_loss: 0.0033\u001b[0m\n"
     ]
    },
    {
     "name": "stderr",
     "output_type": "stream",
     "text": [
      "eval_pointwise: 100%|██████████| 1/1 [00:00<00:00, 103.96it/s]\n",
      "eval_listwise: 100%|██████████| 679/679 [00:01<00:00, 493.29it/s]\n"
     ]
    },
    {
     "name": "stdout",
     "output_type": "stream",
     "text": [
      "\t eval log_loss: 0.5096\n",
      "\t eval roc_auc: 0.9489\n",
      "\t eval precision@10: 0.0386\n",
      "\t eval recall@10: 0.0668\n",
      "\t eval ndcg@10: 0.1503\n",
      "==============================\n"
     ]
    },
    {
     "name": "stderr",
     "output_type": "stream",
     "text": [
      "train: 100%|██████████| 282/282 [02:44<00:00,  1.71it/s]\n"
     ]
    },
    {
     "name": "stdout",
     "output_type": "stream",
     "text": [
      "Epoch 5 elapsed: 164.885s\n",
      "\t \u001b[32mtrain_loss: 0.0031\u001b[0m\n"
     ]
    },
    {
     "name": "stderr",
     "output_type": "stream",
     "text": [
      "eval_pointwise: 100%|██████████| 1/1 [00:00<00:00, 99.62it/s]\n",
      "eval_listwise: 100%|██████████| 679/679 [00:01<00:00, 506.98it/s]\n"
     ]
    },
    {
     "name": "stdout",
     "output_type": "stream",
     "text": [
      "\t eval log_loss: 0.5207\n",
      "\t eval roc_auc: 0.9459\n",
      "\t eval precision@10: 0.0361\n",
      "\t eval recall@10: 0.0617\n",
      "\t eval ndcg@10: 0.1434\n",
      "==============================\n"
     ]
    },
    {
     "name": "stderr",
     "output_type": "stream",
     "text": [
      "train: 100%|██████████| 282/282 [02:38<00:00,  1.78it/s]\n"
     ]
    },
    {
     "name": "stdout",
     "output_type": "stream",
     "text": [
      "Epoch 6 elapsed: 158.051s\n",
      "\t \u001b[32mtrain_loss: 0.0033\u001b[0m\n"
     ]
    },
    {
     "name": "stderr",
     "output_type": "stream",
     "text": [
      "eval_pointwise: 100%|██████████| 1/1 [00:00<00:00, 104.06it/s]\n",
      "eval_listwise: 100%|██████████| 679/679 [00:01<00:00, 501.05it/s]\n"
     ]
    },
    {
     "name": "stdout",
     "output_type": "stream",
     "text": [
      "\t eval log_loss: 0.5295\n",
      "\t eval roc_auc: 0.9442\n",
      "\t eval precision@10: 0.0356\n",
      "\t eval recall@10: 0.0635\n",
      "\t eval ndcg@10: 0.1404\n",
      "==============================\n"
     ]
    },
    {
     "name": "stderr",
     "output_type": "stream",
     "text": [
      "eval_pointwise: 100%|██████████| 1/1 [00:00<00:00, 102.02it/s]\n",
      "eval_listwise: 100%|██████████| 689/689 [00:01<00:00, 515.76it/s]\n",
      "[I 2023-11-15 00:44:46,681] Trial 0 finished with value: 0.03323657474600871 and parameters: {'lr': 0.006925597346938086, 'batch_size': 237, 'embed_size': 140, 'num_epochs': 6}. Best is trial 0 with value: 0.03323657474600871.\n"
     ]
    },
    {
     "name": "stdout",
     "output_type": "stream",
     "text": [
      "Training start time: \u001b[35m2023-11-15 00:44:46\u001b[0m\n"
     ]
    },
    {
     "name": "stderr",
     "output_type": "stream",
     "text": [
      "train: 100%|██████████| 420/420 [04:02<00:00,  1.73it/s]\n"
     ]
    },
    {
     "name": "stdout",
     "output_type": "stream",
     "text": [
      "Epoch 1 elapsed: 242.263s\n",
      "\t \u001b[32mtrain_loss: 0.3992\u001b[0m\n"
     ]
    },
    {
     "name": "stderr",
     "output_type": "stream",
     "text": [
      "eval_pointwise: 100%|██████████| 1/1 [00:00<00:00, 79.00it/s]\n",
      "eval_listwise: 100%|██████████| 679/679 [00:01<00:00, 425.74it/s]\n"
     ]
    },
    {
     "name": "stdout",
     "output_type": "stream",
     "text": [
      "\t eval log_loss: 0.5068\n",
      "\t eval roc_auc: 0.9354\n",
      "\t eval precision@10: 0.0314\n",
      "\t eval recall@10: 0.0593\n",
      "\t eval ndcg@10: 0.1144\n",
      "==============================\n"
     ]
    },
    {
     "name": "stderr",
     "output_type": "stream",
     "text": [
      "train: 100%|██████████| 420/420 [04:08<00:00,  1.69it/s]\n"
     ]
    },
    {
     "name": "stdout",
     "output_type": "stream",
     "text": [
      "Epoch 2 elapsed: 248.776s\n",
      "\t \u001b[32mtrain_loss: 0.0716\u001b[0m\n"
     ]
    },
    {
     "name": "stderr",
     "output_type": "stream",
     "text": [
      "eval_pointwise: 100%|██████████| 1/1 [00:00<00:00, 99.70it/s]\n",
      "eval_listwise: 100%|██████████| 679/679 [00:01<00:00, 461.52it/s]\n"
     ]
    },
    {
     "name": "stdout",
     "output_type": "stream",
     "text": [
      "\t eval log_loss: 0.4663\n",
      "\t eval roc_auc: 0.9467\n",
      "\t eval precision@10: 0.0333\n",
      "\t eval recall@10: 0.0599\n",
      "\t eval ndcg@10: 0.1227\n",
      "==============================\n"
     ]
    },
    {
     "name": "stderr",
     "output_type": "stream",
     "text": [
      "train: 100%|██████████| 420/420 [03:56<00:00,  1.78it/s]\n"
     ]
    },
    {
     "name": "stdout",
     "output_type": "stream",
     "text": [
      "Epoch 3 elapsed: 236.475s\n",
      "\t \u001b[32mtrain_loss: 0.0259\u001b[0m\n"
     ]
    },
    {
     "name": "stderr",
     "output_type": "stream",
     "text": [
      "eval_pointwise: 100%|██████████| 1/1 [00:00<00:00, 85.88it/s]\n",
      "eval_listwise: 100%|██████████| 679/679 [00:01<00:00, 463.65it/s]\n"
     ]
    },
    {
     "name": "stdout",
     "output_type": "stream",
     "text": [
      "\t eval log_loss: 0.4638\n",
      "\t eval roc_auc: 0.9515\n",
      "\t eval precision@10: 0.0336\n",
      "\t eval recall@10: 0.0609\n",
      "\t eval ndcg@10: 0.1272\n",
      "==============================\n"
     ]
    },
    {
     "name": "stderr",
     "output_type": "stream",
     "text": [
      "eval_pointwise: 100%|██████████| 1/1 [00:00<00:00, 115.78it/s]\n",
      "eval_listwise: 100%|██████████| 689/689 [00:01<00:00, 480.23it/s]\n",
      "[I 2023-11-15 00:57:04,841] Trial 1 finished with value: 0.03149492017416546 and parameters: {'lr': 0.0011060164812060052, 'batch_size': 159, 'embed_size': 145, 'num_epochs': 3}. Best is trial 0 with value: 0.03323657474600871.\n"
     ]
    },
    {
     "name": "stdout",
     "output_type": "stream",
     "text": [
      "Training start time: \u001b[35m2023-11-15 00:57:04\u001b[0m\n"
     ]
    },
    {
     "name": "stderr",
     "output_type": "stream",
     "text": [
      "train: 100%|██████████| 284/284 [04:25<00:00,  1.07it/s]\n"
     ]
    },
    {
     "name": "stdout",
     "output_type": "stream",
     "text": [
      "Epoch 1 elapsed: 265.744s\n",
      "\t \u001b[32mtrain_loss: 0.0392\u001b[0m\n"
     ]
    },
    {
     "name": "stderr",
     "output_type": "stream",
     "text": [
      "eval_pointwise: 100%|██████████| 1/1 [00:00<00:00, 52.46it/s]\n",
      "eval_listwise: 100%|██████████| 679/679 [00:02<00:00, 302.61it/s]\n"
     ]
    },
    {
     "name": "stdout",
     "output_type": "stream",
     "text": [
      "\t eval log_loss: 0.4926\n",
      "\t eval roc_auc: 0.9542\n",
      "\t eval precision@10: 0.0380\n",
      "\t eval recall@10: 0.0693\n",
      "\t eval ndcg@10: 0.1578\n",
      "==============================\n"
     ]
    },
    {
     "name": "stderr",
     "output_type": "stream",
     "text": [
      "train: 100%|██████████| 284/284 [04:25<00:00,  1.07it/s]\n"
     ]
    },
    {
     "name": "stdout",
     "output_type": "stream",
     "text": [
      "Epoch 2 elapsed: 265.436s\n",
      "\t \u001b[32mtrain_loss: 0.0043\u001b[0m\n"
     ]
    },
    {
     "name": "stderr",
     "output_type": "stream",
     "text": [
      "eval_pointwise: 100%|██████████| 1/1 [00:00<00:00, 59.14it/s]\n",
      "eval_listwise: 100%|██████████| 679/679 [00:01<00:00, 383.71it/s]\n"
     ]
    },
    {
     "name": "stdout",
     "output_type": "stream",
     "text": [
      "\t eval log_loss: 0.5128\n",
      "\t eval roc_auc: 0.9452\n",
      "\t eval precision@10: 0.0370\n",
      "\t eval recall@10: 0.0676\n",
      "\t eval ndcg@10: 0.1555\n",
      "==============================\n"
     ]
    },
    {
     "name": "stderr",
     "output_type": "stream",
     "text": [
      "train: 100%|██████████| 284/284 [04:17<00:00,  1.10it/s]\n"
     ]
    },
    {
     "name": "stdout",
     "output_type": "stream",
     "text": [
      "Epoch 3 elapsed: 257.128s\n",
      "\t \u001b[32mtrain_loss: 0.0044\u001b[0m\n"
     ]
    },
    {
     "name": "stderr",
     "output_type": "stream",
     "text": [
      "eval_pointwise: 100%|██████████| 1/1 [00:00<00:00, 63.57it/s]\n",
      "eval_listwise: 100%|██████████| 679/679 [00:01<00:00, 368.34it/s]\n"
     ]
    },
    {
     "name": "stdout",
     "output_type": "stream",
     "text": [
      "\t eval log_loss: 0.5408\n",
      "\t eval roc_auc: 0.9346\n",
      "\t eval precision@10: 0.0339\n",
      "\t eval recall@10: 0.0611\n",
      "\t eval ndcg@10: 0.1355\n",
      "==============================\n"
     ]
    },
    {
     "name": "stderr",
     "output_type": "stream",
     "text": [
      "train: 100%|██████████| 284/284 [04:20<00:00,  1.09it/s]\n"
     ]
    },
    {
     "name": "stdout",
     "output_type": "stream",
     "text": [
      "Epoch 4 elapsed: 260.445s\n",
      "\t \u001b[32mtrain_loss: 0.0048\u001b[0m\n"
     ]
    },
    {
     "name": "stderr",
     "output_type": "stream",
     "text": [
      "eval_pointwise: 100%|██████████| 1/1 [00:00<00:00, 67.14it/s]\n",
      "eval_listwise: 100%|██████████| 679/679 [00:01<00:00, 384.28it/s]\n"
     ]
    },
    {
     "name": "stdout",
     "output_type": "stream",
     "text": [
      "\t eval log_loss: 0.5733\n",
      "\t eval roc_auc: 0.9282\n",
      "\t eval precision@10: 0.0281\n",
      "\t eval recall@10: 0.0531\n",
      "\t eval ndcg@10: 0.1131\n",
      "==============================\n"
     ]
    },
    {
     "name": "stderr",
     "output_type": "stream",
     "text": [
      "train: 100%|██████████| 284/284 [04:17<00:00,  1.10it/s]\n"
     ]
    },
    {
     "name": "stdout",
     "output_type": "stream",
     "text": [
      "Epoch 5 elapsed: 257.649s\n",
      "\t \u001b[32mtrain_loss: 0.0039\u001b[0m\n"
     ]
    },
    {
     "name": "stderr",
     "output_type": "stream",
     "text": [
      "eval_pointwise: 100%|██████████| 1/1 [00:00<00:00, 75.37it/s]\n",
      "eval_listwise: 100%|██████████| 679/679 [00:01<00:00, 384.43it/s]\n"
     ]
    },
    {
     "name": "stdout",
     "output_type": "stream",
     "text": [
      "\t eval log_loss: 0.6049\n",
      "\t eval roc_auc: 0.9209\n",
      "\t eval precision@10: 0.0292\n",
      "\t eval recall@10: 0.0508\n",
      "\t eval ndcg@10: 0.1124\n",
      "==============================\n"
     ]
    },
    {
     "name": "stderr",
     "output_type": "stream",
     "text": [
      "train: 100%|██████████| 284/284 [04:18<00:00,  1.10it/s]\n"
     ]
    },
    {
     "name": "stdout",
     "output_type": "stream",
     "text": [
      "Epoch 6 elapsed: 258.223s\n",
      "\t \u001b[32mtrain_loss: 0.0054\u001b[0m\n"
     ]
    },
    {
     "name": "stderr",
     "output_type": "stream",
     "text": [
      "eval_pointwise: 100%|██████████| 1/1 [00:00<00:00, 73.19it/s]\n",
      "eval_listwise: 100%|██████████| 679/679 [00:01<00:00, 389.99it/s]\n"
     ]
    },
    {
     "name": "stdout",
     "output_type": "stream",
     "text": [
      "\t eval log_loss: 0.6902\n",
      "\t eval roc_auc: 0.9104\n",
      "\t eval precision@10: 0.0274\n",
      "\t eval recall@10: 0.0483\n",
      "\t eval ndcg@10: 0.1058\n",
      "==============================\n"
     ]
    },
    {
     "name": "stderr",
     "output_type": "stream",
     "text": [
      "train: 100%|██████████| 284/284 [04:31<00:00,  1.05it/s]\n"
     ]
    },
    {
     "name": "stdout",
     "output_type": "stream",
     "text": [
      "Epoch 7 elapsed: 271.235s\n",
      "\t \u001b[32mtrain_loss: 0.0066\u001b[0m\n"
     ]
    },
    {
     "name": "stderr",
     "output_type": "stream",
     "text": [
      "eval_pointwise: 100%|██████████| 1/1 [00:00<00:00, 76.13it/s]\n",
      "eval_listwise: 100%|██████████| 679/679 [00:01<00:00, 373.50it/s]\n"
     ]
    },
    {
     "name": "stdout",
     "output_type": "stream",
     "text": [
      "\t eval log_loss: 0.7604\n",
      "\t eval roc_auc: 0.9006\n",
      "\t eval precision@10: 0.0253\n",
      "\t eval recall@10: 0.0454\n",
      "\t eval ndcg@10: 0.0965\n",
      "==============================\n"
     ]
    },
    {
     "name": "stderr",
     "output_type": "stream",
     "text": [
      "train: 100%|██████████| 284/284 [04:18<00:00,  1.10it/s]\n"
     ]
    },
    {
     "name": "stdout",
     "output_type": "stream",
     "text": [
      "Epoch 8 elapsed: 258.104s\n",
      "\t \u001b[32mtrain_loss: 0.0063\u001b[0m\n"
     ]
    },
    {
     "name": "stderr",
     "output_type": "stream",
     "text": [
      "eval_pointwise: 100%|██████████| 1/1 [00:00<00:00, 71.15it/s]\n",
      "eval_listwise: 100%|██████████| 679/679 [00:01<00:00, 381.52it/s]\n"
     ]
    },
    {
     "name": "stdout",
     "output_type": "stream",
     "text": [
      "\t eval log_loss: 0.8203\n",
      "\t eval roc_auc: 0.8958\n",
      "\t eval precision@10: 0.0239\n",
      "\t eval recall@10: 0.0411\n",
      "\t eval ndcg@10: 0.0948\n",
      "==============================\n"
     ]
    },
    {
     "name": "stderr",
     "output_type": "stream",
     "text": [
      "eval_pointwise: 100%|██████████| 1/1 [00:00<00:00, 79.47it/s]\n",
      "eval_listwise: 100%|██████████| 689/689 [00:01<00:00, 382.55it/s]\n",
      "[I 2023-11-15 01:32:23,493] Trial 2 finished with value: 0.021625544267053706 and parameters: {'lr': 0.009396225837719928, 'batch_size': 235, 'embed_size': 248, 'num_epochs': 8}. Best is trial 0 with value: 0.03323657474600871.\n"
     ]
    },
    {
     "name": "stdout",
     "output_type": "stream",
     "text": [
      "Training start time: \u001b[35m2023-11-15 01:32:23\u001b[0m\n"
     ]
    },
    {
     "name": "stderr",
     "output_type": "stream",
     "text": [
      "train: 100%|██████████| 299/299 [02:26<00:00,  2.04it/s]\n"
     ]
    },
    {
     "name": "stdout",
     "output_type": "stream",
     "text": [
      "Epoch 1 elapsed: 146.364s\n",
      "\t \u001b[32mtrain_loss: 0.113\u001b[0m\n"
     ]
    },
    {
     "name": "stderr",
     "output_type": "stream",
     "text": [
      "eval_pointwise: 100%|██████████| 1/1 [00:00<00:00, 199.99it/s]\n",
      "eval_listwise: 100%|██████████| 679/679 [00:01<00:00, 455.48it/s]\n"
     ]
    },
    {
     "name": "stdout",
     "output_type": "stream",
     "text": [
      "\t eval log_loss: 0.4732\n",
      "\t eval roc_auc: 0.9497\n",
      "\t eval precision@10: 0.0351\n",
      "\t eval recall@10: 0.0644\n",
      "\t eval ndcg@10: 0.1473\n",
      "==============================\n"
     ]
    },
    {
     "name": "stderr",
     "output_type": "stream",
     "text": [
      "train: 100%|██████████| 299/299 [02:22<00:00,  2.09it/s]\n"
     ]
    },
    {
     "name": "stdout",
     "output_type": "stream",
     "text": [
      "Epoch 2 elapsed: 142.725s\n",
      "\t \u001b[32mtrain_loss: 0.0081\u001b[0m\n"
     ]
    },
    {
     "name": "stderr",
     "output_type": "stream",
     "text": [
      "eval_pointwise: 100%|██████████| 1/1 [00:00<00:00, 117.48it/s]\n",
      "eval_listwise: 100%|██████████| 679/679 [00:01<00:00, 477.39it/s]\n"
     ]
    },
    {
     "name": "stdout",
     "output_type": "stream",
     "text": [
      "\t eval log_loss: 0.4796\n",
      "\t eval roc_auc: 0.9531\n",
      "\t eval precision@10: 0.0356\n",
      "\t eval recall@10: 0.0648\n",
      "\t eval ndcg@10: 0.1484\n",
      "==============================\n"
     ]
    },
    {
     "name": "stderr",
     "output_type": "stream",
     "text": [
      "train: 100%|██████████| 299/299 [02:18<00:00,  2.16it/s]\n"
     ]
    },
    {
     "name": "stdout",
     "output_type": "stream",
     "text": [
      "Epoch 3 elapsed: 138.382s\n",
      "\t \u001b[32mtrain_loss: 0.0047\u001b[0m\n"
     ]
    },
    {
     "name": "stderr",
     "output_type": "stream",
     "text": [
      "eval_pointwise: 100%|██████████| 1/1 [00:00<00:00, 158.56it/s]\n",
      "eval_listwise: 100%|██████████| 679/679 [00:01<00:00, 444.43it/s]\n"
     ]
    },
    {
     "name": "stdout",
     "output_type": "stream",
     "text": [
      "\t eval log_loss: 0.4859\n",
      "\t eval roc_auc: 0.9538\n",
      "\t eval precision@10: 0.0374\n",
      "\t eval recall@10: 0.0676\n",
      "\t eval ndcg@10: 0.1511\n",
      "==============================\n"
     ]
    },
    {
     "name": "stderr",
     "output_type": "stream",
     "text": [
      "eval_pointwise: 100%|██████████| 1/1 [00:00<00:00, 150.24it/s]\n",
      "eval_listwise: 100%|██████████| 689/689 [00:01<00:00, 505.19it/s]\n",
      "[I 2023-11-15 01:39:41,537] Trial 3 finished with value: 0.03309143686502177 and parameters: {'lr': 0.005379527965413115, 'batch_size': 223, 'embed_size': 110, 'num_epochs': 3}. Best is trial 0 with value: 0.03323657474600871.\n"
     ]
    },
    {
     "name": "stdout",
     "output_type": "stream",
     "text": [
      "Training start time: \u001b[35m2023-11-15 01:39:41\u001b[0m\n"
     ]
    },
    {
     "name": "stderr",
     "output_type": "stream",
     "text": [
      "train: 100%|██████████| 359/359 [02:48<00:00,  2.13it/s]\n"
     ]
    },
    {
     "name": "stdout",
     "output_type": "stream",
     "text": [
      "Epoch 1 elapsed: 168.550s\n",
      "\t \u001b[32mtrain_loss: 0.2299\u001b[0m\n"
     ]
    },
    {
     "name": "stderr",
     "output_type": "stream",
     "text": [
      "eval_pointwise: 100%|██████████| 1/1 [00:00<00:00, 132.20it/s]\n",
      "eval_listwise: 100%|██████████| 679/679 [00:01<00:00, 519.39it/s]\n"
     ]
    },
    {
     "name": "stdout",
     "output_type": "stream",
     "text": [
      "\t eval log_loss: 0.4648\n",
      "\t eval roc_auc: 0.9452\n",
      "\t eval precision@10: 0.0323\n",
      "\t eval recall@10: 0.0644\n",
      "\t eval ndcg@10: 0.1301\n",
      "==============================\n"
     ]
    },
    {
     "name": "stderr",
     "output_type": "stream",
     "text": [
      "train: 100%|██████████| 359/359 [03:14<00:00,  1.85it/s]\n"
     ]
    },
    {
     "name": "stdout",
     "output_type": "stream",
     "text": [
      "Epoch 2 elapsed: 194.095s\n",
      "\t \u001b[32mtrain_loss: 0.0202\u001b[0m\n"
     ]
    },
    {
     "name": "stderr",
     "output_type": "stream",
     "text": [
      "eval_pointwise: 100%|██████████| 1/1 [00:00<00:00, 180.94it/s]\n",
      "eval_listwise: 100%|██████████| 679/679 [00:01<00:00, 535.84it/s]\n"
     ]
    },
    {
     "name": "stdout",
     "output_type": "stream",
     "text": [
      "\t eval log_loss: 0.4692\n",
      "\t eval roc_auc: 0.9512\n",
      "\t eval precision@10: 0.0365\n",
      "\t eval recall@10: 0.0711\n",
      "\t eval ndcg@10: 0.1429\n",
      "==============================\n"
     ]
    },
    {
     "name": "stderr",
     "output_type": "stream",
     "text": [
      "train: 100%|██████████| 359/359 [02:51<00:00,  2.09it/s]\n"
     ]
    },
    {
     "name": "stdout",
     "output_type": "stream",
     "text": [
      "Epoch 3 elapsed: 171.892s\n",
      "\t \u001b[32mtrain_loss: 0.0106\u001b[0m\n"
     ]
    },
    {
     "name": "stderr",
     "output_type": "stream",
     "text": [
      "eval_pointwise: 100%|██████████| 1/1 [00:00<00:00, 198.31it/s]\n",
      "eval_listwise: 100%|██████████| 679/679 [00:01<00:00, 548.21it/s]\n"
     ]
    },
    {
     "name": "stdout",
     "output_type": "stream",
     "text": [
      "\t eval log_loss: 0.4729\n",
      "\t eval roc_auc: 0.9545\n",
      "\t eval precision@10: 0.0359\n",
      "\t eval recall@10: 0.0670\n",
      "\t eval ndcg@10: 0.1406\n",
      "==============================\n"
     ]
    },
    {
     "name": "stderr",
     "output_type": "stream",
     "text": [
      "eval_pointwise: 100%|██████████| 1/1 [00:00<00:00, 194.30it/s]\n",
      "eval_listwise: 100%|██████████| 689/689 [00:01<00:00, 570.34it/s]\n",
      "[I 2023-11-15 01:48:45,523] Trial 4 finished with value: 0.03454281567489115 and parameters: {'lr': 0.002433004009239272, 'batch_size': 186, 'embed_size': 116, 'num_epochs': 3}. Best is trial 4 with value: 0.03454281567489115.\n"
     ]
    },
    {
     "name": "stdout",
     "output_type": "stream",
     "text": [
      "Training start time: \u001b[35m2023-11-15 01:48:45\u001b[0m\n"
     ]
    },
    {
     "name": "stderr",
     "output_type": "stream",
     "text": [
      "train: 100%|██████████| 436/436 [02:30<00:00,  2.89it/s]\n"
     ]
    },
    {
     "name": "stdout",
     "output_type": "stream",
     "text": [
      "Epoch 1 elapsed: 150.992s\n",
      "\t \u001b[32mtrain_loss: 0.3153\u001b[0m\n"
     ]
    },
    {
     "name": "stderr",
     "output_type": "stream",
     "text": [
      "eval_pointwise: 100%|██████████| 1/1 [00:00<00:00, 152.95it/s]\n",
      "eval_listwise: 100%|██████████| 679/679 [00:01<00:00, 567.61it/s]\n"
     ]
    },
    {
     "name": "stdout",
     "output_type": "stream",
     "text": [
      "\t eval log_loss: 0.4743\n",
      "\t eval roc_auc: 0.9386\n",
      "\t eval precision@10: 0.0281\n",
      "\t eval recall@10: 0.0522\n",
      "\t eval ndcg@10: 0.1121\n",
      "==============================\n"
     ]
    },
    {
     "name": "stderr",
     "output_type": "stream",
     "text": [
      "train: 100%|██████████| 436/436 [02:21<00:00,  3.07it/s]\n"
     ]
    },
    {
     "name": "stdout",
     "output_type": "stream",
     "text": [
      "Epoch 2 elapsed: 141.913s\n",
      "\t \u001b[32mtrain_loss: 0.04\u001b[0m\n"
     ]
    },
    {
     "name": "stderr",
     "output_type": "stream",
     "text": [
      "eval_pointwise: 100%|██████████| 1/1 [00:00<00:00, 166.67it/s]\n",
      "eval_listwise: 100%|██████████| 679/679 [00:01<00:00, 576.59it/s]\n"
     ]
    },
    {
     "name": "stdout",
     "output_type": "stream",
     "text": [
      "\t eval log_loss: 0.4699\n",
      "\t eval roc_auc: 0.9472\n",
      "\t eval precision@10: 0.0308\n",
      "\t eval recall@10: 0.0570\n",
      "\t eval ndcg@10: 0.1193\n",
      "==============================\n"
     ]
    },
    {
     "name": "stderr",
     "output_type": "stream",
     "text": [
      "train: 100%|██████████| 436/436 [02:24<00:00,  3.02it/s]\n"
     ]
    },
    {
     "name": "stdout",
     "output_type": "stream",
     "text": [
      "Epoch 3 elapsed: 144.353s\n",
      "\t \u001b[32mtrain_loss: 0.0181\u001b[0m\n"
     ]
    },
    {
     "name": "stderr",
     "output_type": "stream",
     "text": [
      "eval_pointwise: 100%|██████████| 1/1 [00:00<00:00, 199.91it/s]\n",
      "eval_listwise: 100%|██████████| 679/679 [00:01<00:00, 533.85it/s]\n"
     ]
    },
    {
     "name": "stdout",
     "output_type": "stream",
     "text": [
      "\t eval log_loss: 0.4749\n",
      "\t eval roc_auc: 0.9509\n",
      "\t eval precision@10: 0.0327\n",
      "\t eval recall@10: 0.0601\n",
      "\t eval ndcg@10: 0.1296\n",
      "==============================\n"
     ]
    },
    {
     "name": "stderr",
     "output_type": "stream",
     "text": [
      "train: 100%|██████████| 436/436 [02:23<00:00,  3.04it/s]\n"
     ]
    },
    {
     "name": "stdout",
     "output_type": "stream",
     "text": [
      "Epoch 4 elapsed: 143.290s\n",
      "\t \u001b[32mtrain_loss: 0.0119\u001b[0m\n"
     ]
    },
    {
     "name": "stderr",
     "output_type": "stream",
     "text": [
      "eval_pointwise: 100%|██████████| 1/1 [00:00<00:00, 213.03it/s]\n",
      "eval_listwise: 100%|██████████| 679/679 [00:01<00:00, 573.23it/s]\n"
     ]
    },
    {
     "name": "stdout",
     "output_type": "stream",
     "text": [
      "\t eval log_loss: 0.4794\n",
      "\t eval roc_auc: 0.9528\n",
      "\t eval precision@10: 0.0339\n",
      "\t eval recall@10: 0.0613\n",
      "\t eval ndcg@10: 0.1305\n",
      "==============================\n"
     ]
    },
    {
     "name": "stderr",
     "output_type": "stream",
     "text": [
      "train: 100%|██████████| 436/436 [02:22<00:00,  3.07it/s]\n"
     ]
    },
    {
     "name": "stdout",
     "output_type": "stream",
     "text": [
      "Epoch 5 elapsed: 142.086s\n",
      "\t \u001b[32mtrain_loss: 0.0089\u001b[0m\n"
     ]
    },
    {
     "name": "stderr",
     "output_type": "stream",
     "text": [
      "eval_pointwise: 100%|██████████| 1/1 [00:00<00:00, 196.61it/s]\n",
      "eval_listwise: 100%|██████████| 679/679 [00:01<00:00, 572.19it/s]\n"
     ]
    },
    {
     "name": "stdout",
     "output_type": "stream",
     "text": [
      "\t eval log_loss: 0.4823\n",
      "\t eval roc_auc: 0.9542\n",
      "\t eval precision@10: 0.0349\n",
      "\t eval recall@10: 0.0641\n",
      "\t eval ndcg@10: 0.1348\n",
      "==============================\n"
     ]
    },
    {
     "name": "stderr",
     "output_type": "stream",
     "text": [
      "train: 100%|██████████| 436/436 [02:23<00:00,  3.03it/s]\n"
     ]
    },
    {
     "name": "stdout",
     "output_type": "stream",
     "text": [
      "Epoch 6 elapsed: 143.826s\n",
      "\t \u001b[32mtrain_loss: 0.007\u001b[0m\n"
     ]
    },
    {
     "name": "stderr",
     "output_type": "stream",
     "text": [
      "eval_pointwise: 100%|██████████| 1/1 [00:00<00:00, 214.25it/s]\n",
      "eval_listwise: 100%|██████████| 679/679 [00:01<00:00, 539.03it/s]\n"
     ]
    },
    {
     "name": "stdout",
     "output_type": "stream",
     "text": [
      "\t eval log_loss: 0.4861\n",
      "\t eval roc_auc: 0.9549\n",
      "\t eval precision@10: 0.0359\n",
      "\t eval recall@10: 0.0648\n",
      "\t eval ndcg@10: 0.1379\n",
      "==============================\n"
     ]
    },
    {
     "name": "stderr",
     "output_type": "stream",
     "text": [
      "eval_pointwise: 100%|██████████| 1/1 [00:00<00:00, 216.70it/s]\n",
      "eval_listwise: 100%|██████████| 689/689 [00:01<00:00, 583.39it/s]\n",
      "[I 2023-11-15 02:03:25,282] Trial 5 finished with value: 0.03570391872278665 and parameters: {'lr': 0.0019269443023648477, 'batch_size': 153, 'embed_size': 70, 'num_epochs': 6}. Best is trial 5 with value: 0.03570391872278665.\n"
     ]
    },
    {
     "name": "stdout",
     "output_type": "stream",
     "text": [
      "Training start time: \u001b[35m2023-11-15 02:03:25\u001b[0m\n"
     ]
    },
    {
     "name": "stderr",
     "output_type": "stream",
     "text": [
      "train: 100%|██████████| 269/269 [02:31<00:00,  1.77it/s]\n"
     ]
    },
    {
     "name": "stdout",
     "output_type": "stream",
     "text": [
      "Epoch 1 elapsed: 151.696s\n",
      "\t \u001b[32mtrain_loss: 0.0554\u001b[0m\n"
     ]
    },
    {
     "name": "stderr",
     "output_type": "stream",
     "text": [
      "eval_pointwise: 100%|██████████| 1/1 [00:00<00:00, 102.66it/s]\n",
      "eval_listwise: 100%|██████████| 679/679 [00:01<00:00, 447.53it/s]\n"
     ]
    },
    {
     "name": "stdout",
     "output_type": "stream",
     "text": [
      "\t eval log_loss: 0.5023\n",
      "\t eval roc_auc: 0.9504\n",
      "\t eval precision@10: 0.0378\n",
      "\t eval recall@10: 0.0698\n",
      "\t eval ndcg@10: 0.1488\n",
      "==============================\n"
     ]
    },
    {
     "name": "stderr",
     "output_type": "stream",
     "text": [
      "train: 100%|██████████| 269/269 [02:31<00:00,  1.78it/s]\n"
     ]
    },
    {
     "name": "stdout",
     "output_type": "stream",
     "text": [
      "Epoch 2 elapsed: 151.314s\n",
      "\t \u001b[32mtrain_loss: 0.0044\u001b[0m\n"
     ]
    },
    {
     "name": "stderr",
     "output_type": "stream",
     "text": [
      "eval_pointwise: 100%|██████████| 1/1 [00:00<00:00, 117.09it/s]\n",
      "eval_listwise: 100%|██████████| 679/679 [00:01<00:00, 448.30it/s]\n"
     ]
    },
    {
     "name": "stdout",
     "output_type": "stream",
     "text": [
      "\t eval log_loss: 0.5039\n",
      "\t eval roc_auc: 0.9487\n",
      "\t eval precision@10: 0.0384\n",
      "\t eval recall@10: 0.0691\n",
      "\t eval ndcg@10: 0.1442\n",
      "==============================\n"
     ]
    },
    {
     "name": "stderr",
     "output_type": "stream",
     "text": [
      "eval_pointwise: 100%|██████████| 1/1 [00:00<00:00, 151.10it/s]\n",
      "eval_listwise: 100%|██████████| 689/689 [00:01<00:00, 469.96it/s]\n",
      "[I 2023-11-15 02:08:37,132] Trial 6 finished with value: 0.029898403483309147 and parameters: {'lr': 0.009501705350920672, 'batch_size': 248, 'embed_size': 139, 'num_epochs': 2}. Best is trial 5 with value: 0.03570391872278665.\n"
     ]
    },
    {
     "name": "stdout",
     "output_type": "stream",
     "text": [
      "Training start time: \u001b[35m2023-11-15 02:08:37\u001b[0m\n"
     ]
    },
    {
     "name": "stderr",
     "output_type": "stream",
     "text": [
      "train: 100%|██████████| 420/420 [04:08<00:00,  1.69it/s]\n"
     ]
    },
    {
     "name": "stdout",
     "output_type": "stream",
     "text": [
      "Epoch 1 elapsed: 248.543s\n",
      "\t \u001b[32mtrain_loss: 0.0591\u001b[0m\n"
     ]
    },
    {
     "name": "stderr",
     "output_type": "stream",
     "text": [
      "eval_pointwise: 100%|██████████| 1/1 [00:00<00:00, 132.71it/s]\n",
      "eval_listwise: 100%|██████████| 679/679 [00:01<00:00, 460.05it/s]\n"
     ]
    },
    {
     "name": "stdout",
     "output_type": "stream",
     "text": [
      "\t eval log_loss: 0.4936\n",
      "\t eval roc_auc: 0.9566\n",
      "\t eval precision@10: 0.0364\n",
      "\t eval recall@10: 0.0672\n",
      "\t eval ndcg@10: 0.1451\n",
      "==============================\n"
     ]
    },
    {
     "name": "stderr",
     "output_type": "stream",
     "text": [
      "train: 100%|██████████| 420/420 [04:03<00:00,  1.73it/s]\n"
     ]
    },
    {
     "name": "stdout",
     "output_type": "stream",
     "text": [
      "Epoch 2 elapsed: 243.121s\n",
      "\t \u001b[32mtrain_loss: 0.0055\u001b[0m\n"
     ]
    },
    {
     "name": "stderr",
     "output_type": "stream",
     "text": [
      "eval_pointwise: 100%|██████████| 1/1 [00:00<00:00, 122.82it/s]\n",
      "eval_listwise: 100%|██████████| 679/679 [00:01<00:00, 478.41it/s]\n"
     ]
    },
    {
     "name": "stdout",
     "output_type": "stream",
     "text": [
      "\t eval log_loss: 0.4936\n",
      "\t eval roc_auc: 0.9554\n",
      "\t eval precision@10: 0.0352\n",
      "\t eval recall@10: 0.0633\n",
      "\t eval ndcg@10: 0.1389\n",
      "==============================\n"
     ]
    },
    {
     "name": "stderr",
     "output_type": "stream",
     "text": [
      "train: 100%|██████████| 420/420 [04:05<00:00,  1.71it/s]\n"
     ]
    },
    {
     "name": "stdout",
     "output_type": "stream",
     "text": [
      "Epoch 3 elapsed: 245.022s\n",
      "\t \u001b[32mtrain_loss: 0.004\u001b[0m\n"
     ]
    },
    {
     "name": "stderr",
     "output_type": "stream",
     "text": [
      "eval_pointwise: 100%|██████████| 1/1 [00:00<00:00, 95.10it/s]\n",
      "eval_listwise: 100%|██████████| 679/679 [00:01<00:00, 480.51it/s]\n"
     ]
    },
    {
     "name": "stdout",
     "output_type": "stream",
     "text": [
      "\t eval log_loss: 0.5023\n",
      "\t eval roc_auc: 0.9521\n",
      "\t eval precision@10: 0.0359\n",
      "\t eval recall@10: 0.0648\n",
      "\t eval ndcg@10: 0.1393\n",
      "==============================\n"
     ]
    },
    {
     "name": "stderr",
     "output_type": "stream",
     "text": [
      "train: 100%|██████████| 420/420 [04:03<00:00,  1.73it/s]\n"
     ]
    },
    {
     "name": "stdout",
     "output_type": "stream",
     "text": [
      "Epoch 4 elapsed: 243.251s\n",
      "\t \u001b[32mtrain_loss: 0.0044\u001b[0m\n"
     ]
    },
    {
     "name": "stderr",
     "output_type": "stream",
     "text": [
      "eval_pointwise: 100%|██████████| 1/1 [00:00<00:00, 130.96it/s]\n",
      "eval_listwise: 100%|██████████| 679/679 [00:01<00:00, 485.78it/s]\n"
     ]
    },
    {
     "name": "stdout",
     "output_type": "stream",
     "text": [
      "\t eval log_loss: 0.5195\n",
      "\t eval roc_auc: 0.9470\n",
      "\t eval precision@10: 0.0345\n",
      "\t eval recall@10: 0.0603\n",
      "\t eval ndcg@10: 0.1332\n",
      "==============================\n"
     ]
    },
    {
     "name": "stderr",
     "output_type": "stream",
     "text": [
      "train: 100%|██████████| 420/420 [04:03<00:00,  1.73it/s]\n"
     ]
    },
    {
     "name": "stdout",
     "output_type": "stream",
     "text": [
      "Epoch 5 elapsed: 243.294s\n",
      "\t \u001b[32mtrain_loss: 0.0032\u001b[0m\n"
     ]
    },
    {
     "name": "stderr",
     "output_type": "stream",
     "text": [
      "eval_pointwise: 100%|██████████| 1/1 [00:00<00:00, 85.27it/s]\n",
      "eval_listwise: 100%|██████████| 679/679 [00:01<00:00, 476.38it/s]\n"
     ]
    },
    {
     "name": "stdout",
     "output_type": "stream",
     "text": [
      "\t eval log_loss: 0.5304\n",
      "\t eval roc_auc: 0.9407\n",
      "\t eval precision@10: 0.0327\n",
      "\t eval recall@10: 0.0555\n",
      "\t eval ndcg@10: 0.1254\n",
      "==============================\n"
     ]
    },
    {
     "name": "stderr",
     "output_type": "stream",
     "text": [
      "train: 100%|██████████| 420/420 [04:01<00:00,  1.74it/s]\n"
     ]
    },
    {
     "name": "stdout",
     "output_type": "stream",
     "text": [
      "Epoch 6 elapsed: 241.375s\n",
      "\t \u001b[32mtrain_loss: 0.0034\u001b[0m\n"
     ]
    },
    {
     "name": "stderr",
     "output_type": "stream",
     "text": [
      "eval_pointwise: 100%|██████████| 1/1 [00:00<00:00, 96.39it/s]\n",
      "eval_listwise: 100%|██████████| 679/679 [00:01<00:00, 478.79it/s]\n"
     ]
    },
    {
     "name": "stdout",
     "output_type": "stream",
     "text": [
      "\t eval log_loss: 0.5552\n",
      "\t eval roc_auc: 0.9359\n",
      "\t eval precision@10: 0.0325\n",
      "\t eval recall@10: 0.0528\n",
      "\t eval ndcg@10: 0.1268\n",
      "==============================\n"
     ]
    },
    {
     "name": "stderr",
     "output_type": "stream",
     "text": [
      "train: 100%|██████████| 420/420 [04:02<00:00,  1.73it/s]\n"
     ]
    },
    {
     "name": "stdout",
     "output_type": "stream",
     "text": [
      "Epoch 7 elapsed: 242.716s\n",
      "\t \u001b[32mtrain_loss: 0.0034\u001b[0m\n"
     ]
    },
    {
     "name": "stderr",
     "output_type": "stream",
     "text": [
      "eval_pointwise: 100%|██████████| 1/1 [00:00<00:00, 124.88it/s]\n",
      "eval_listwise: 100%|██████████| 679/679 [00:01<00:00, 480.19it/s]\n"
     ]
    },
    {
     "name": "stdout",
     "output_type": "stream",
     "text": [
      "\t eval log_loss: 0.5836\n",
      "\t eval roc_auc: 0.9332\n",
      "\t eval precision@10: 0.0324\n",
      "\t eval recall@10: 0.0501\n",
      "\t eval ndcg@10: 0.1283\n",
      "==============================\n"
     ]
    },
    {
     "name": "stderr",
     "output_type": "stream",
     "text": [
      "eval_pointwise: 100%|██████████| 1/1 [00:00<00:00, 129.31it/s]\n",
      "eval_listwise: 100%|██████████| 689/689 [00:01<00:00, 471.53it/s]\n",
      "[I 2023-11-15 02:37:22,103] Trial 7 finished with value: 0.028011611030478955 and parameters: {'lr': 0.006683463654139038, 'batch_size': 159, 'embed_size': 153, 'num_epochs': 7}. Best is trial 5 with value: 0.03570391872278665.\n"
     ]
    },
    {
     "name": "stdout",
     "output_type": "stream",
     "text": [
      "Training start time: \u001b[35m2023-11-15 02:37:22\u001b[0m\n"
     ]
    },
    {
     "name": "stderr",
     "output_type": "stream",
     "text": [
      "train: 100%|██████████| 379/379 [05:09<00:00,  1.22it/s]\n"
     ]
    },
    {
     "name": "stdout",
     "output_type": "stream",
     "text": [
      "Epoch 1 elapsed: 309.414s\n",
      "\t \u001b[32mtrain_loss: 0.0649\u001b[0m\n"
     ]
    },
    {
     "name": "stderr",
     "output_type": "stream",
     "text": [
      "eval_pointwise: 100%|██████████| 1/1 [00:00<00:00, 80.50it/s]\n",
      "eval_listwise: 100%|██████████| 679/679 [00:01<00:00, 429.78it/s]\n"
     ]
    },
    {
     "name": "stdout",
     "output_type": "stream",
     "text": [
      "\t eval log_loss: 0.4748\n",
      "\t eval roc_auc: 0.9575\n",
      "\t eval precision@10: 0.0352\n",
      "\t eval recall@10: 0.0647\n",
      "\t eval ndcg@10: 0.1415\n",
      "==============================\n"
     ]
    },
    {
     "name": "stderr",
     "output_type": "stream",
     "text": [
      "train: 100%|██████████| 379/379 [05:13<00:00,  1.21it/s]\n"
     ]
    },
    {
     "name": "stdout",
     "output_type": "stream",
     "text": [
      "Epoch 2 elapsed: 313.389s\n",
      "\t \u001b[32mtrain_loss: 0.0046\u001b[0m\n"
     ]
    },
    {
     "name": "stderr",
     "output_type": "stream",
     "text": [
      "eval_pointwise: 100%|██████████| 1/1 [00:00<00:00, 73.65it/s]\n",
      "eval_listwise: 100%|██████████| 679/679 [00:01<00:00, 429.54it/s]\n"
     ]
    },
    {
     "name": "stdout",
     "output_type": "stream",
     "text": [
      "\t eval log_loss: 0.4778\n",
      "\t eval roc_auc: 0.9572\n",
      "\t eval precision@10: 0.0370\n",
      "\t eval recall@10: 0.0706\n",
      "\t eval ndcg@10: 0.1486\n",
      "==============================\n"
     ]
    },
    {
     "name": "stderr",
     "output_type": "stream",
     "text": [
      "train: 100%|██████████| 379/379 [05:10<00:00,  1.22it/s]\n"
     ]
    },
    {
     "name": "stdout",
     "output_type": "stream",
     "text": [
      "Epoch 3 elapsed: 310.918s\n",
      "\t \u001b[32mtrain_loss: 0.0038\u001b[0m\n"
     ]
    },
    {
     "name": "stderr",
     "output_type": "stream",
     "text": [
      "eval_pointwise: 100%|██████████| 1/1 [00:00<00:00, 60.54it/s]\n",
      "eval_listwise: 100%|██████████| 679/679 [00:01<00:00, 429.11it/s]\n"
     ]
    },
    {
     "name": "stdout",
     "output_type": "stream",
     "text": [
      "\t eval log_loss: 0.4830\n",
      "\t eval roc_auc: 0.9560\n",
      "\t eval precision@10: 0.0395\n",
      "\t eval recall@10: 0.0756\n",
      "\t eval ndcg@10: 0.1502\n",
      "==============================\n"
     ]
    },
    {
     "name": "stderr",
     "output_type": "stream",
     "text": [
      "train: 100%|██████████| 379/379 [05:06<00:00,  1.23it/s]\n"
     ]
    },
    {
     "name": "stdout",
     "output_type": "stream",
     "text": [
      "Epoch 4 elapsed: 306.926s\n",
      "\t \u001b[32mtrain_loss: 0.0033\u001b[0m\n"
     ]
    },
    {
     "name": "stderr",
     "output_type": "stream",
     "text": [
      "eval_pointwise: 100%|██████████| 1/1 [00:00<00:00, 73.78it/s]\n",
      "eval_listwise: 100%|██████████| 679/679 [00:01<00:00, 427.99it/s]\n"
     ]
    },
    {
     "name": "stdout",
     "output_type": "stream",
     "text": [
      "\t eval log_loss: 0.4951\n",
      "\t eval roc_auc: 0.9531\n",
      "\t eval precision@10: 0.0368\n",
      "\t eval recall@10: 0.0703\n",
      "\t eval ndcg@10: 0.1483\n",
      "==============================\n"
     ]
    },
    {
     "name": "stderr",
     "output_type": "stream",
     "text": [
      "eval_pointwise: 100%|██████████| 1/1 [00:00<00:00, 80.12it/s]\n",
      "eval_listwise: 100%|██████████| 689/689 [00:01<00:00, 393.83it/s]\n",
      "[I 2023-11-15 02:58:16,072] Trial 8 finished with value: 0.030914368650217707 and parameters: {'lr': 0.005393182751402691, 'batch_size': 176, 'embed_size': 232, 'num_epochs': 4}. Best is trial 5 with value: 0.03570391872278665.\n"
     ]
    },
    {
     "name": "stdout",
     "output_type": "stream",
     "text": [
      "Training start time: \u001b[35m2023-11-15 02:58:16\u001b[0m\n"
     ]
    },
    {
     "name": "stderr",
     "output_type": "stream",
     "text": [
      "train: 100%|██████████| 457/457 [01:53<00:00,  4.02it/s]\n"
     ]
    },
    {
     "name": "stdout",
     "output_type": "stream",
     "text": [
      "Epoch 1 elapsed: 113.713s\n",
      "\t \u001b[32mtrain_loss: 0.0939\u001b[0m\n"
     ]
    },
    {
     "name": "stderr",
     "output_type": "stream",
     "text": [
      "eval_pointwise: 100%|██████████| 1/1 [00:00<00:00, 440.35it/s]\n",
      "eval_listwise: 100%|██████████| 679/679 [00:01<00:00, 643.16it/s]\n"
     ]
    },
    {
     "name": "stdout",
     "output_type": "stream",
     "text": [
      "\t eval log_loss: 0.4993\n",
      "\t eval roc_auc: 0.9500\n",
      "\t eval precision@10: 0.0349\n",
      "\t eval recall@10: 0.0634\n",
      "\t eval ndcg@10: 0.1376\n",
      "==============================\n"
     ]
    },
    {
     "name": "stderr",
     "output_type": "stream",
     "text": [
      "train: 100%|██████████| 457/457 [01:53<00:00,  4.03it/s]\n"
     ]
    },
    {
     "name": "stdout",
     "output_type": "stream",
     "text": [
      "Epoch 2 elapsed: 113.363s\n",
      "\t \u001b[32mtrain_loss: 0.009\u001b[0m\n"
     ]
    },
    {
     "name": "stderr",
     "output_type": "stream",
     "text": [
      "eval_pointwise: 100%|██████████| 1/1 [00:00<00:00, 296.44it/s]\n",
      "eval_listwise: 100%|██████████| 679/679 [00:01<00:00, 652.18it/s]\n"
     ]
    },
    {
     "name": "stdout",
     "output_type": "stream",
     "text": [
      "\t eval log_loss: 0.5126\n",
      "\t eval roc_auc: 0.9519\n",
      "\t eval precision@10: 0.0353\n",
      "\t eval recall@10: 0.0626\n",
      "\t eval ndcg@10: 0.1438\n",
      "==============================\n"
     ]
    },
    {
     "name": "stderr",
     "output_type": "stream",
     "text": [
      "train: 100%|██████████| 457/457 [01:53<00:00,  4.04it/s]\n"
     ]
    },
    {
     "name": "stdout",
     "output_type": "stream",
     "text": [
      "Epoch 3 elapsed: 113.149s\n",
      "\t \u001b[32mtrain_loss: 0.0062\u001b[0m\n"
     ]
    },
    {
     "name": "stderr",
     "output_type": "stream",
     "text": [
      "eval_pointwise: 100%|██████████| 1/1 [00:00<00:00, 213.97it/s]\n",
      "eval_listwise: 100%|██████████| 679/679 [00:01<00:00, 623.07it/s]\n"
     ]
    },
    {
     "name": "stdout",
     "output_type": "stream",
     "text": [
      "\t eval log_loss: 0.5229\n",
      "\t eval roc_auc: 0.9497\n",
      "\t eval precision@10: 0.0367\n",
      "\t eval recall@10: 0.0647\n",
      "\t eval ndcg@10: 0.1485\n",
      "==============================\n"
     ]
    },
    {
     "name": "stderr",
     "output_type": "stream",
     "text": [
      "train: 100%|██████████| 457/457 [01:54<00:00,  3.98it/s]\n"
     ]
    },
    {
     "name": "stdout",
     "output_type": "stream",
     "text": [
      "Epoch 4 elapsed: 114.847s\n",
      "\t \u001b[32mtrain_loss: 0.0043\u001b[0m\n"
     ]
    },
    {
     "name": "stderr",
     "output_type": "stream",
     "text": [
      "eval_pointwise: 100%|██████████| 1/1 [00:00<00:00, 279.84it/s]\n",
      "eval_listwise: 100%|██████████| 679/679 [00:01<00:00, 661.37it/s]\n"
     ]
    },
    {
     "name": "stdout",
     "output_type": "stream",
     "text": [
      "\t eval log_loss: 0.5402\n",
      "\t eval roc_auc: 0.9477\n",
      "\t eval precision@10: 0.0355\n",
      "\t eval recall@10: 0.0615\n",
      "\t eval ndcg@10: 0.1432\n",
      "==============================\n"
     ]
    },
    {
     "name": "stderr",
     "output_type": "stream",
     "text": [
      "train: 100%|██████████| 457/457 [01:54<00:00,  4.00it/s]\n"
     ]
    },
    {
     "name": "stdout",
     "output_type": "stream",
     "text": [
      "Epoch 5 elapsed: 114.115s\n",
      "\t \u001b[32mtrain_loss: 0.004\u001b[0m\n"
     ]
    },
    {
     "name": "stderr",
     "output_type": "stream",
     "text": [
      "eval_pointwise: 100%|██████████| 1/1 [00:00<00:00, 273.26it/s]\n",
      "eval_listwise: 100%|██████████| 679/679 [00:01<00:00, 658.95it/s]\n"
     ]
    },
    {
     "name": "stdout",
     "output_type": "stream",
     "text": [
      "\t eval log_loss: 0.5496\n",
      "\t eval roc_auc: 0.9462\n",
      "\t eval precision@10: 0.0364\n",
      "\t eval recall@10: 0.0621\n",
      "\t eval ndcg@10: 0.1448\n",
      "==============================\n"
     ]
    },
    {
     "name": "stderr",
     "output_type": "stream",
     "text": [
      "eval_pointwise: 100%|██████████| 1/1 [00:00<00:00, 232.18it/s]\n",
      "eval_listwise: 100%|██████████| 689/689 [00:01<00:00, 676.74it/s]\n",
      "[I 2023-11-15 03:07:55,947] Trial 9 finished with value: 0.036284470246734396 and parameters: {'lr': 0.006874727667973322, 'batch_size': 146, 'embed_size': 53, 'num_epochs': 5}. Best is trial 9 with value: 0.036284470246734396.\n"
     ]
    },
    {
     "name": "stdout",
     "output_type": "stream",
     "text": [
      "{'lr': 0.006874727667973322, 'batch_size': 146, 'embed_size': 53, 'num_epochs': 5}\n"
     ]
    }
   ],
   "source": [
    "import optuna\n",
    "\n",
    "def objective(trial):\n",
    "    # Define hyperparameter search space\n",
    "    lr = trial.suggest_float(\"lr\", 1e-5, 1e-2)\n",
    "    batch_size = trial.suggest_int(\"batch_size\", 128, 256)\n",
    "    embed_size = trial.suggest_int(\"embed_size\", 8, 256)\n",
    "    num_epochs = trial.suggest_int(\"num_epochs\", 2, 8)\n",
    "\n",
    "    # Create and train the model with the suggested hyperparameters\n",
    "    lightgcn = LightGCN(\n",
    "    task=\"ranking\",\n",
    "    data_info=data_info,\n",
    "    loss_type=\"bpr\",\n",
    "    embed_size=embed_size,\n",
    "    n_epochs=num_epochs,\n",
    "    lr=lr,\n",
    "    batch_size=batch_size,\n",
    "    num_neg=1,\n",
    "    device=\"cuda\",\n",
    ")\n",
    "    lightgcn.fit(\n",
    "    train_data,\n",
    "    neg_sampling=True,\n",
    "    verbose=2,\n",
    "    eval_data=eval_data,\n",
    "    metrics=[\"loss\", \"roc_auc\", \"precision\", \"recall\", \"ndcg\"],\n",
    ")\n",
    "\n",
    "    error = evaluate(\n",
    "        model=lightgcn,\n",
    "        data=test_data,\n",
    "        neg_sampling=True,\n",
    "        metrics=[\"loss\", \"roc_auc\", \"precision\", \"recall\", \"ndcg\"],\n",
    "    )\n",
    "    return error['precision']\n",
    "\n",
    "study = optuna.create_study(direction=\"maximize\")\n",
    "study.optimize(objective, n_trials=10)\n",
    "\n",
    "# Get the best hyperparameters from the study\n",
    "best_params = study.best_params\n",
    "\n",
    "print(best_params)\n"
   ]
  },
  {
   "cell_type": "code",
   "execution_count": 37,
   "metadata": {},
   "outputs": [],
   "source": [
    "lightgcn = LightGCN(\n",
    "    task=\"ranking\",\n",
    "    data_info=data_info,\n",
    "    loss_type=\"bpr\",\n",
    "    embed_size=best_params['embed_size'],\n",
    "    n_epochs=best_params['num_epochs'],\n",
    "    lr=best_params['lr'],\n",
    "    batch_size=best_params['batch_size'],\n",
    "    num_neg=1,\n",
    "    device=\"cuda\",\n",
    ")"
   ]
  },
  {
   "cell_type": "code",
   "execution_count": 38,
   "metadata": {},
   "outputs": [
    {
     "name": "stdout",
     "output_type": "stream",
     "text": [
      "Training start time: \u001b[35m2023-11-15 12:13:00\u001b[0m\n"
     ]
    },
    {
     "name": "stderr",
     "output_type": "stream",
     "text": [
      "train: 100%|██████████| 457/457 [02:09<00:00,  3.53it/s]\n"
     ]
    },
    {
     "name": "stdout",
     "output_type": "stream",
     "text": [
      "Epoch 1 elapsed: 129.393s\n",
      "\t \u001b[32mtrain_loss: 0.0939\u001b[0m\n"
     ]
    },
    {
     "name": "stderr",
     "output_type": "stream",
     "text": [
      "eval_pointwise: 100%|██████████| 1/1 [00:00<00:00, 304.27it/s]\n",
      "eval_listwise: 100%|██████████| 679/679 [00:01<00:00, 625.38it/s]\n"
     ]
    },
    {
     "name": "stdout",
     "output_type": "stream",
     "text": [
      "\t eval log_loss: 0.4993\n",
      "\t eval roc_auc: 0.9500\n",
      "\t eval precision@10: 0.0349\n",
      "\t eval recall@10: 0.0634\n",
      "\t eval ndcg@10: 0.1376\n",
      "==============================\n"
     ]
    },
    {
     "name": "stderr",
     "output_type": "stream",
     "text": [
      "train: 100%|██████████| 457/457 [02:05<00:00,  3.63it/s]\n"
     ]
    },
    {
     "name": "stdout",
     "output_type": "stream",
     "text": [
      "Epoch 2 elapsed: 125.733s\n",
      "\t \u001b[32mtrain_loss: 0.009\u001b[0m\n"
     ]
    },
    {
     "name": "stderr",
     "output_type": "stream",
     "text": [
      "eval_pointwise: 100%|██████████| 1/1 [00:00<00:00, 313.57it/s]\n",
      "eval_listwise: 100%|██████████| 679/679 [00:01<00:00, 615.34it/s]\n"
     ]
    },
    {
     "name": "stdout",
     "output_type": "stream",
     "text": [
      "\t eval log_loss: 0.5126\n",
      "\t eval roc_auc: 0.9519\n",
      "\t eval precision@10: 0.0353\n",
      "\t eval recall@10: 0.0626\n",
      "\t eval ndcg@10: 0.1438\n",
      "==============================\n"
     ]
    },
    {
     "name": "stderr",
     "output_type": "stream",
     "text": [
      "train: 100%|██████████| 457/457 [01:56<00:00,  3.93it/s]\n"
     ]
    },
    {
     "name": "stdout",
     "output_type": "stream",
     "text": [
      "Epoch 3 elapsed: 116.250s\n",
      "\t \u001b[32mtrain_loss: 0.0062\u001b[0m\n"
     ]
    },
    {
     "name": "stderr",
     "output_type": "stream",
     "text": [
      "eval_pointwise: 100%|██████████| 1/1 [00:00<00:00, 328.30it/s]\n",
      "eval_listwise: 100%|██████████| 679/679 [00:01<00:00, 647.93it/s]\n"
     ]
    },
    {
     "name": "stdout",
     "output_type": "stream",
     "text": [
      "\t eval log_loss: 0.5229\n",
      "\t eval roc_auc: 0.9497\n",
      "\t eval precision@10: 0.0367\n",
      "\t eval recall@10: 0.0647\n",
      "\t eval ndcg@10: 0.1485\n",
      "==============================\n"
     ]
    },
    {
     "name": "stderr",
     "output_type": "stream",
     "text": [
      "train: 100%|██████████| 457/457 [01:55<00:00,  3.97it/s]\n"
     ]
    },
    {
     "name": "stdout",
     "output_type": "stream",
     "text": [
      "Epoch 4 elapsed: 115.259s\n",
      "\t \u001b[32mtrain_loss: 0.0043\u001b[0m\n"
     ]
    },
    {
     "name": "stderr",
     "output_type": "stream",
     "text": [
      "eval_pointwise: 100%|██████████| 1/1 [00:00<00:00, 333.44it/s]\n",
      "eval_listwise: 100%|██████████| 679/679 [00:01<00:00, 606.21it/s]\n"
     ]
    },
    {
     "name": "stdout",
     "output_type": "stream",
     "text": [
      "\t eval log_loss: 0.5402\n",
      "\t eval roc_auc: 0.9477\n",
      "\t eval precision@10: 0.0355\n",
      "\t eval recall@10: 0.0615\n",
      "\t eval ndcg@10: 0.1432\n",
      "==============================\n"
     ]
    },
    {
     "name": "stderr",
     "output_type": "stream",
     "text": [
      "train: 100%|██████████| 457/457 [01:54<00:00,  3.99it/s]\n"
     ]
    },
    {
     "name": "stdout",
     "output_type": "stream",
     "text": [
      "Epoch 5 elapsed: 114.561s\n",
      "\t \u001b[32mtrain_loss: 0.004\u001b[0m\n"
     ]
    },
    {
     "name": "stderr",
     "output_type": "stream",
     "text": [
      "eval_pointwise: 100%|██████████| 1/1 [00:00<00:00, 228.05it/s]\n",
      "eval_listwise: 100%|██████████| 679/679 [00:01<00:00, 657.07it/s]"
     ]
    },
    {
     "name": "stdout",
     "output_type": "stream",
     "text": [
      "\t eval log_loss: 0.5496\n",
      "\t eval roc_auc: 0.9462\n",
      "\t eval precision@10: 0.0364\n",
      "\t eval recall@10: 0.0621\n",
      "\t eval ndcg@10: 0.1448\n",
      "==============================\n"
     ]
    },
    {
     "name": "stderr",
     "output_type": "stream",
     "text": [
      "\n"
     ]
    }
   ],
   "source": [
    "# monitor metrics on eval data during training\n",
    "lightgcn.fit(\n",
    "    train_data,\n",
    "    neg_sampling=True,\n",
    "    verbose=2,\n",
    "    eval_data=eval_data,\n",
    "    metrics=[\"loss\", \"roc_auc\", \"precision\", \"recall\", \"ndcg\"],\n",
    ")"
   ]
  },
  {
   "cell_type": "code",
   "execution_count": 39,
   "metadata": {},
   "outputs": [
    {
     "name": "stderr",
     "output_type": "stream",
     "text": [
      "eval_pointwise: 100%|██████████| 1/1 [00:00<00:00, 242.67it/s]\n",
      "eval_listwise: 100%|██████████| 689/689 [00:01<00:00, 681.81it/s]\n"
     ]
    },
    {
     "data": {
      "text/plain": [
       "{'loss': 0.5726528606170258,\n",
       " 'roc_auc': 0.9392017125025194,\n",
       " 'precision': 0.036284470246734396,\n",
       " 'recall': 0.06498846057989743,\n",
       " 'ndcg': 0.1354837731009233}"
      ]
     },
     "execution_count": 39,
     "metadata": {},
     "output_type": "execute_result"
    }
   ],
   "source": [
    "# do final evaluation on test data\n",
    "evaluate(\n",
    "    model=lightgcn,\n",
    "    data=test_data,\n",
    "    neg_sampling=True,\n",
    "    metrics=[\"loss\", \"roc_auc\", \"precision\", \"recall\", \"ndcg\"],\n",
    ")"
   ]
  },
  {
   "cell_type": "markdown",
   "metadata": {},
   "source": [
    "### Prediction and Evaluation"
   ]
  },
  {
   "cell_type": "code",
   "execution_count": 71,
   "metadata": {},
   "outputs": [],
   "source": [
    "# importing the evaluation metrics\n",
    "from recommenders.evaluation.python_evaluation import (rmse, mae, rsquared, exp_var, map_at_k, ndcg_at_k, precision_at_k,\n",
    "                                                     recall_at_k, get_top_k_items)"
   ]
  },
  {
   "cell_type": "code",
   "execution_count": 46,
   "metadata": {},
   "outputs": [],
   "source": [
    "# top k items to recommend\n",
    "TOP_K = 10"
   ]
  },
  {
   "cell_type": "code",
   "execution_count": 61,
   "metadata": {},
   "outputs": [],
   "source": [
    "train, eval, test = random_split(df, multi_ratios=[0.8, 0.1, 0.1])"
   ]
  },
  {
   "cell_type": "code",
   "execution_count": 82,
   "metadata": {},
   "outputs": [],
   "source": [
    "users, items, preds = [], [], []\n",
    "item = list(train.item.unique())\n",
    "for user in train.user.unique():\n",
    "    user = [user] * len(item)\n",
    "    users.extend(user)\n",
    "    items.extend(item)\n",
    "    preds.extend(list(lightgcn.predict(user, item)))\n",
    "\n",
    "all_predictions = pd.DataFrame(data={\"user\": users, \"item\":items, \"prediction\":preds})\n",
    "\n",
    "merged = pd.merge(train, all_predictions, on=[\"user\", \"item\"], how=\"outer\")\n",
    "all_predictions = merged[merged.label.isnull()].drop('label', axis=1)"
   ]
  },
  {
   "cell_type": "code",
   "execution_count": 78,
   "metadata": {},
   "outputs": [],
   "source": [
    "all_predictions = all_predictions.rename(columns={\"user\":\"userID\", 'item':\"itemID\", \"label\":\"rating\", \"song_by\": \"song\"})\n",
    "test = test.rename(columns={\"user\":\"userID\", 'item':\"itemID\", \"label\":\"rating\", \"song_by\": \"song\"})"
   ]
  },
  {
   "cell_type": "code",
   "execution_count": 83,
   "metadata": {},
   "outputs": [
    {
     "name": "stderr",
     "output_type": "stream",
     "text": [
      "eval_pointwise: 100%|██████████| 1/1 [00:00<00:00, 141.63it/s]\n",
      "eval_listwise: 100%|██████████| 689/689 [00:01<00:00, 513.11it/s]\n"
     ]
    },
    {
     "data": {
      "text/plain": [
       "{'loss': 0.5726528606170258,\n",
       " 'roc_auc': 0.9392017125025194,\n",
       " 'precision': 0.036284470246734396,\n",
       " 'recall': 0.06498846057989743,\n",
       " 'ndcg': 0.1354837731009233}"
      ]
     },
     "execution_count": 83,
     "metadata": {},
     "output_type": "execute_result"
    }
   ],
   "source": [
    "scores = evaluate(\n",
    "    model=lightgcn,\n",
    "    data=test_data,\n",
    "    neg_sampling=True,\n",
    "    metrics=[\"loss\", \"roc_auc\", \"precision\", \"recall\", \"ndcg\"],\n",
    ")\n",
    "scores"
   ]
  },
  {
   "cell_type": "markdown",
   "metadata": {},
   "source": [
    "#### MAP\n",
    "\n",
    "It is the average precision for each user normalized over all users."
   ]
  },
  {
   "cell_type": "code",
   "execution_count": 79,
   "metadata": {},
   "outputs": [
    {
     "name": "stdout",
     "output_type": "stream",
     "text": [
      "MAP @ 10: 0.023336243271233598\n"
     ]
    }
   ],
   "source": [
    "eval_map = map_at_k(test, all_predictions, col_prediction='prediction', k=TOP_K)\n",
    "print(f\"MAP @ {TOP_K}: {eval_map}\")"
   ]
  },
  {
   "cell_type": "markdown",
   "metadata": {},
   "source": [
    "#### NDCG\n",
    "\n",
    "Normalized Discounted Cumulative Gain (NDCG) - evaluates how well the predicted items for a user are ranked based on relevance\n"
   ]
  },
  {
   "cell_type": "code",
   "execution_count": 84,
   "metadata": {},
   "outputs": [
    {
     "name": "stdout",
     "output_type": "stream",
     "text": [
      "NDCG: 0.1354837731009233\n"
     ]
    }
   ],
   "source": [
    "eval_ndcg = scores['ndcg']\n",
    "print(f\"NDCG: {eval_ndcg}\")"
   ]
  },
  {
   "cell_type": "code",
   "execution_count": 80,
   "metadata": {},
   "outputs": [
    {
     "name": "stdout",
     "output_type": "stream",
     "text": [
      "NDCG @ 10: 0.05353667894262494\n"
     ]
    }
   ],
   "source": [
    "eval_ndcg = ndcg_at_k(test, all_predictions, col_prediction='prediction', k=TOP_K)\n",
    "print(f\"NDCG @ {TOP_K}: {eval_ndcg}\")"
   ]
  },
  {
   "cell_type": "markdown",
   "metadata": {},
   "source": [
    "#### Precision Recall\n",
    "\n",
    "Precision - this measures the proportion of recommended items that are relevant\n",
    "\n",
    "Recall - this measures the proportion of relevant items that are recommended"
   ]
  },
  {
   "cell_type": "code",
   "execution_count": 85,
   "metadata": {},
   "outputs": [
    {
     "name": "stdout",
     "output_type": "stream",
     "text": [
      "Precision: 0.036284470246734396 \n",
      " Recall: 0.06498846057989743\n"
     ]
    }
   ],
   "source": [
    "eval_precision = scores['precision']\n",
    "eval_recall = scores['recall']\n",
    "print(f\"Precision: {eval_precision} \\n Recall: {eval_recall}\")"
   ]
  },
  {
   "cell_type": "code",
   "execution_count": 81,
   "metadata": {},
   "outputs": [
    {
     "name": "stdout",
     "output_type": "stream",
     "text": [
      "Precision @ 10: 0.0362844702467344 \n",
      " Recall @ 10: 0.06498846057989743\n"
     ]
    }
   ],
   "source": [
    "eval_precision = precision_at_k(test, all_predictions, col_prediction='prediction', k=TOP_K)\n",
    "eval_recall = recall_at_k(test, all_predictions, col_prediction='prediction', k=TOP_K)\n",
    "print(f\"Precision @ {TOP_K}: {eval_precision} \\n Recall @ {TOP_K}: {eval_recall}\")"
   ]
  }
 ],
 "metadata": {
  "kernelspec": {
   "display_name": "Python 3",
   "language": "python",
   "name": "python3"
  },
  "language_info": {
   "codemirror_mode": {
    "name": "ipython",
    "version": 3
   },
   "file_extension": ".py",
   "mimetype": "text/x-python",
   "name": "python",
   "nbconvert_exporter": "python",
   "pygments_lexer": "ipython3",
   "version": "3.8.10"
  }
 },
 "nbformat": 4,
 "nbformat_minor": 2
}
