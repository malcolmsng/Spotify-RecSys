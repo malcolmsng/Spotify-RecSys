{
 "cells": [
  {
   "cell_type": "code",
   "execution_count": 1,
   "metadata": {},
   "outputs": [
    {
     "name": "stderr",
     "output_type": "stream",
     "text": [
      "c:\\Users\\josep\\anaconda3\\envs\\btproj\\lib\\site-packages\\lightfm\\_lightfm_fast.py:9: UserWarning: LightFM was compiled without OpenMP support. Only a single thread will be used.\n",
      "  warnings.warn(\n"
     ]
    }
   ],
   "source": [
    "import sys\n",
    "import os\n",
    "\n",
    "import itertools\n",
    "import pandas as pd\n",
    "import numpy as np\n",
    "import matplotlib.pyplot as plt\n",
    "import seaborn as sns\n",
    "# import scrapbook as sb\n",
    "\n",
    "# import lightfm\n",
    "from lightfm import LightFM\n",
    "from lightfm.data import Dataset\n",
    "from lightfm import cross_validation\n",
    "\n",
    "# Import LightFM's evaluation metrics\n",
    "from lightfm.evaluation import precision_at_k as lightfm_prec_at_k\n",
    "from lightfm.evaluation import recall_at_k as lightfm_recall_at_k"
   ]
  },
  {
   "cell_type": "code",
   "execution_count": 2,
   "metadata": {},
   "outputs": [],
   "source": [
    "df = pd.read_json('datasets/spot_final_explode.json')\n",
    "df = df.drop(columns=['itemID','userID'])"
   ]
  },
  {
   "cell_type": "code",
   "execution_count": 3,
   "metadata": {},
   "outputs": [
    {
     "data": {
      "text/html": [
       "<div>\n",
       "<style scoped>\n",
       "    .dataframe tbody tr th:only-of-type {\n",
       "        vertical-align: middle;\n",
       "    }\n",
       "\n",
       "    .dataframe tbody tr th {\n",
       "        vertical-align: top;\n",
       "    }\n",
       "\n",
       "    .dataframe thead th {\n",
       "        text-align: right;\n",
       "    }\n",
       "</style>\n",
       "<table border=\"1\" class=\"dataframe\">\n",
       "  <thead>\n",
       "    <tr style=\"text-align: right;\">\n",
       "      <th></th>\n",
       "      <th>track_uri</th>\n",
       "      <th>name</th>\n",
       "      <th>artists_names</th>\n",
       "      <th>popularity</th>\n",
       "      <th>album_type</th>\n",
       "      <th>playlist_uris</th>\n",
       "      <th>danceability</th>\n",
       "      <th>energy</th>\n",
       "      <th>key</th>\n",
       "      <th>loudness</th>\n",
       "      <th>...</th>\n",
       "      <th>artists_genres</th>\n",
       "      <th>release_year</th>\n",
       "      <th>artists_mean_popularities</th>\n",
       "      <th>artists_mean_followers</th>\n",
       "      <th>lyrics</th>\n",
       "      <th>n_playlist</th>\n",
       "      <th>tt_score</th>\n",
       "      <th>song_by</th>\n",
       "      <th>rating</th>\n",
       "      <th>playlist_mean_tt</th>\n",
       "    </tr>\n",
       "  </thead>\n",
       "  <tbody>\n",
       "    <tr>\n",
       "      <th>0</th>\n",
       "      <td>spotify:track:41MOCUNOgWtaYBFUsGnpZ5</td>\n",
       "      <td>The Safety Dance</td>\n",
       "      <td>Men Without Hats</td>\n",
       "      <td>37</td>\n",
       "      <td>album</td>\n",
       "      <td>spotify:playlist:519N2pOOQrNuVt3hJ7GF7S</td>\n",
       "      <td>0.572</td>\n",
       "      <td>0.837</td>\n",
       "      <td>5</td>\n",
       "      <td>-7.876</td>\n",
       "      <td>...</td>\n",
       "      <td>['wave', 'pop', 'romantic', 'synthpop', 'new',...</td>\n",
       "      <td>1982</td>\n",
       "      <td>55.0</td>\n",
       "      <td>208619.0</td>\n",
       "      <td>We can dance if we want to We can leave your ...</td>\n",
       "      <td>1</td>\n",
       "      <td>5.418839</td>\n",
       "      <td>The Safety Dance by Men Without Hats</td>\n",
       "      <td>1.550904</td>\n",
       "      <td>3.493987</td>\n",
       "    </tr>\n",
       "    <tr>\n",
       "      <th>1</th>\n",
       "      <td>spotify:track:24kirWnsEEyGgbl2NuhSVz</td>\n",
       "      <td>Endless Summer</td>\n",
       "      <td>Grizfolk</td>\n",
       "      <td>45</td>\n",
       "      <td>single</td>\n",
       "      <td>spotify:playlist:1YKxkgvu0TEfOfsXQz7EyX</td>\n",
       "      <td>0.498</td>\n",
       "      <td>0.727</td>\n",
       "      <td>4</td>\n",
       "      <td>-6.116</td>\n",
       "      <td>...</td>\n",
       "      <td>['modern', 'stomp', 'indie', 'poptimism', 'and...</td>\n",
       "      <td>2018</td>\n",
       "      <td>52.0</td>\n",
       "      <td>143241.0</td>\n",
       "      <td>Take it back, it's over time Ooh, you know it...</td>\n",
       "      <td>1</td>\n",
       "      <td>4.115897</td>\n",
       "      <td>Endless Summer by Grizfolk</td>\n",
       "      <td>1.171918</td>\n",
       "      <td>3.512102</td>\n",
       "    </tr>\n",
       "    <tr>\n",
       "      <th>2</th>\n",
       "      <td>spotify:track:5PNcJn4oFNvlRfrZBHfqWh</td>\n",
       "      <td>Castaway</td>\n",
       "      <td>Zac Brown Band</td>\n",
       "      <td>0</td>\n",
       "      <td>album</td>\n",
       "      <td>spotify:playlist:60RvK7JfGXL4zFVFxmmzOT</td>\n",
       "      <td>0.611</td>\n",
       "      <td>0.782</td>\n",
       "      <td>8</td>\n",
       "      <td>-4.989</td>\n",
       "      <td>...</td>\n",
       "      <td>['country', 'modern', 'contemporary', 'road', ...</td>\n",
       "      <td>2015</td>\n",
       "      <td>73.0</td>\n",
       "      <td>3498692.0</td>\n",
       "      <td>Castaway Ride the waves like we’re young 'Cau...</td>\n",
       "      <td>2</td>\n",
       "      <td>4.085013</td>\n",
       "      <td>Castaway by Zac Brown Band</td>\n",
       "      <td>0.914342</td>\n",
       "      <td>4.467707</td>\n",
       "    </tr>\n",
       "  </tbody>\n",
       "</table>\n",
       "<p>3 rows × 29 columns</p>\n",
       "</div>"
      ],
      "text/plain": [
       "                              track_uri              name     artists_names  \\\n",
       "0  spotify:track:41MOCUNOgWtaYBFUsGnpZ5  The Safety Dance  Men Without Hats   \n",
       "1  spotify:track:24kirWnsEEyGgbl2NuhSVz    Endless Summer          Grizfolk   \n",
       "2  spotify:track:5PNcJn4oFNvlRfrZBHfqWh          Castaway    Zac Brown Band   \n",
       "\n",
       "   popularity album_type                            playlist_uris  \\\n",
       "0          37      album  spotify:playlist:519N2pOOQrNuVt3hJ7GF7S   \n",
       "1          45     single  spotify:playlist:1YKxkgvu0TEfOfsXQz7EyX   \n",
       "2           0      album  spotify:playlist:60RvK7JfGXL4zFVFxmmzOT   \n",
       "\n",
       "   danceability  energy  key  loudness  ...  \\\n",
       "0         0.572   0.837    5    -7.876  ...   \n",
       "1         0.498   0.727    4    -6.116  ...   \n",
       "2         0.611   0.782    8    -4.989  ...   \n",
       "\n",
       "                                      artists_genres  release_year  \\\n",
       "0  ['wave', 'pop', 'romantic', 'synthpop', 'new',...          1982   \n",
       "1  ['modern', 'stomp', 'indie', 'poptimism', 'and...          2018   \n",
       "2  ['country', 'modern', 'contemporary', 'road', ...          2015   \n",
       "\n",
       "   artists_mean_popularities  artists_mean_followers  \\\n",
       "0                       55.0                208619.0   \n",
       "1                       52.0                143241.0   \n",
       "2                       73.0               3498692.0   \n",
       "\n",
       "                                              lyrics  n_playlist  tt_score  \\\n",
       "0   We can dance if we want to We can leave your ...           1  5.418839   \n",
       "1   Take it back, it's over time Ooh, you know it...           1  4.115897   \n",
       "2   Castaway Ride the waves like we’re young 'Cau...           2  4.085013   \n",
       "\n",
       "                                song_by    rating playlist_mean_tt  \n",
       "0  The Safety Dance by Men Without Hats  1.550904         3.493987  \n",
       "1            Endless Summer by Grizfolk  1.171918         3.512102  \n",
       "2            Castaway by Zac Brown Band  0.914342         4.467707  \n",
       "\n",
       "[3 rows x 29 columns]"
      ]
     },
     "execution_count": 3,
     "metadata": {},
     "output_type": "execute_result"
    }
   ],
   "source": [
    "df.head(3)"
   ]
  },
  {
   "cell_type": "code",
   "execution_count": 4,
   "metadata": {},
   "outputs": [],
   "source": [
    "from sklearn.preprocessing import LabelEncoder\n",
    "import ast"
   ]
  },
  {
   "cell_type": "code",
   "execution_count": 5,
   "metadata": {},
   "outputs": [],
   "source": [
    "def tt_score(df):\n",
    "  num = df['danceability'] + df['speechiness'] + 1/abs(df['loudness']) + df['energy'] + df['valence'] + np.log(df['popularity'] + 1) + np.log(df['artists_mean_popularities'] + 1) + np.log10(df['artists_mean_followers'] + 1)\n",
    "  den = df['instrumentalness'] + df['acousticness'] + (df['duration_ms']/60000)\n",
    "  return num/den"
   ]
  },
  {
   "cell_type": "code",
   "execution_count": 6,
   "metadata": {},
   "outputs": [],
   "source": [
    "light_df = df.copy()\n",
    "light_df = light_df.sample(n = 10000, random_state = 42)"
   ]
  },
  {
   "cell_type": "code",
   "execution_count": 7,
   "metadata": {},
   "outputs": [],
   "source": [
    "light_df['item'] = LabelEncoder().fit_transform(light_df['track_uri'])\n",
    "light_df['user'] = LabelEncoder().fit_transform(light_df['playlist_uris'])\n",
    "light_df['tt_score'] = light_df.apply(lambda x : tt_score(x), axis = 1)\n",
    "light_df['playlist_mean_tt'] = light_df.groupby('user')['tt_score'].transform('mean')\n",
    "light_df['label'] = light_df['tt_score']/light_df['playlist_mean_tt']\n",
    "light_df['artists_names'] = light_df['artists_names'].astype(str)\n",
    "light_df['name'] = light_df['name'].astype(str)"
   ]
  },
  {
   "cell_type": "code",
   "execution_count": 8,
   "metadata": {},
   "outputs": [
    {
     "name": "stdout",
     "output_type": "stream",
     "text": [
      "Total number of unique genres: 1016\n"
     ]
    }
   ],
   "source": [
    "track_genre = light_df['artists_genres'].apply(ast.literal_eval).to_list()\n",
    "\n",
    "all_track_genre = sorted(list(set(itertools.chain.from_iterable(track_genre))))\n",
    "print(f'Total number of unique genres: {len(all_track_genre)}')"
   ]
  },
  {
   "cell_type": "code",
   "execution_count": 9,
   "metadata": {},
   "outputs": [
    {
     "data": {
      "text/html": [
       "<div>\n",
       "<style scoped>\n",
       "    .dataframe tbody tr th:only-of-type {\n",
       "        vertical-align: middle;\n",
       "    }\n",
       "\n",
       "    .dataframe tbody tr th {\n",
       "        vertical-align: top;\n",
       "    }\n",
       "\n",
       "    .dataframe thead th {\n",
       "        text-align: right;\n",
       "    }\n",
       "</style>\n",
       "<table border=\"1\" class=\"dataframe\">\n",
       "  <thead>\n",
       "    <tr style=\"text-align: right;\">\n",
       "      <th></th>\n",
       "      <th>track_uri</th>\n",
       "      <th>name</th>\n",
       "      <th>artists_names</th>\n",
       "      <th>popularity</th>\n",
       "      <th>album_type</th>\n",
       "      <th>playlist_uris</th>\n",
       "      <th>danceability</th>\n",
       "      <th>energy</th>\n",
       "      <th>key</th>\n",
       "      <th>loudness</th>\n",
       "      <th>...</th>\n",
       "      <th>artists_mean_followers</th>\n",
       "      <th>lyrics</th>\n",
       "      <th>n_playlist</th>\n",
       "      <th>tt_score</th>\n",
       "      <th>song_by</th>\n",
       "      <th>rating</th>\n",
       "      <th>playlist_mean_tt</th>\n",
       "      <th>item</th>\n",
       "      <th>user</th>\n",
       "      <th>label</th>\n",
       "    </tr>\n",
       "  </thead>\n",
       "  <tbody>\n",
       "    <tr>\n",
       "      <th>64243</th>\n",
       "      <td>spotify:track:0K2WjMLZYr09LKwurGRYRE</td>\n",
       "      <td>Theme From New York New York</td>\n",
       "      <td>Frank Sinatra</td>\n",
       "      <td>62</td>\n",
       "      <td>compilation</td>\n",
       "      <td>spotify:playlist:2jogTm047kymef0a52SbjW</td>\n",
       "      <td>0.312</td>\n",
       "      <td>0.497</td>\n",
       "      <td>2</td>\n",
       "      <td>-6.950</td>\n",
       "      <td>...</td>\n",
       "      <td>6.195935e+06</td>\n",
       "      <td>Start spreading the news, I'm leaving today I...</td>\n",
       "      <td>2</td>\n",
       "      <td>4.199985</td>\n",
       "      <td>Theme From New York New York by Frank Sinatra</td>\n",
       "      <td>1.161704</td>\n",
       "      <td>3.817785</td>\n",
       "      <td>395</td>\n",
       "      <td>259</td>\n",
       "      <td>1.100110</td>\n",
       "    </tr>\n",
       "    <tr>\n",
       "      <th>35778</th>\n",
       "      <td>spotify:track:2Umhe37twJAgIZgYRkql6U</td>\n",
       "      <td>We Nah Listen</td>\n",
       "      <td>Various Artists</td>\n",
       "      <td>16</td>\n",
       "      <td>compilation</td>\n",
       "      <td>spotify:playlist:0mPufH8QFp0N8TEjRhZF3b</td>\n",
       "      <td>0.623</td>\n",
       "      <td>0.520</td>\n",
       "      <td>4</td>\n",
       "      <td>-6.995</td>\n",
       "      <td>...</td>\n",
       "      <td>1.873341e+06</td>\n",
       "      <td></td>\n",
       "      <td>1</td>\n",
       "      <td>3.783177</td>\n",
       "      <td>We Nah Listen by Various Artists</td>\n",
       "      <td>0.823727</td>\n",
       "      <td>4.818398</td>\n",
       "      <td>2985</td>\n",
       "      <td>70</td>\n",
       "      <td>0.785153</td>\n",
       "    </tr>\n",
       "    <tr>\n",
       "      <th>48452</th>\n",
       "      <td>spotify:track:4c9MCYlfiTkfcJYlvLPt0M</td>\n",
       "      <td>Adi Shakti</td>\n",
       "      <td>Matthew Schoening</td>\n",
       "      <td>42</td>\n",
       "      <td>album</td>\n",
       "      <td>spotify:playlist:1NacC68KsHTOlkAUZiM4av</td>\n",
       "      <td>0.513</td>\n",
       "      <td>0.184</td>\n",
       "      <td>9</td>\n",
       "      <td>-15.497</td>\n",
       "      <td>...</td>\n",
       "      <td>2.323833e+04</td>\n",
       "      <td></td>\n",
       "      <td>1</td>\n",
       "      <td>1.617750</td>\n",
       "      <td>Adi Shakti by Matthew Schoening</td>\n",
       "      <td>1.138389</td>\n",
       "      <td>1.062285</td>\n",
       "      <td>5416</td>\n",
       "      <td>128</td>\n",
       "      <td>1.522897</td>\n",
       "    </tr>\n",
       "  </tbody>\n",
       "</table>\n",
       "<p>3 rows × 32 columns</p>\n",
       "</div>"
      ],
      "text/plain": [
       "                                  track_uri                          name  \\\n",
       "64243  spotify:track:0K2WjMLZYr09LKwurGRYRE  Theme From New York New York   \n",
       "35778  spotify:track:2Umhe37twJAgIZgYRkql6U                 We Nah Listen   \n",
       "48452  spotify:track:4c9MCYlfiTkfcJYlvLPt0M                    Adi Shakti   \n",
       "\n",
       "           artists_names  popularity   album_type  \\\n",
       "64243      Frank Sinatra          62  compilation   \n",
       "35778    Various Artists          16  compilation   \n",
       "48452  Matthew Schoening          42        album   \n",
       "\n",
       "                                 playlist_uris  danceability  energy  key  \\\n",
       "64243  spotify:playlist:2jogTm047kymef0a52SbjW         0.312   0.497    2   \n",
       "35778  spotify:playlist:0mPufH8QFp0N8TEjRhZF3b         0.623   0.520    4   \n",
       "48452  spotify:playlist:1NacC68KsHTOlkAUZiM4av         0.513   0.184    9   \n",
       "\n",
       "       loudness  ...  artists_mean_followers  \\\n",
       "64243    -6.950  ...            6.195935e+06   \n",
       "35778    -6.995  ...            1.873341e+06   \n",
       "48452   -15.497  ...            2.323833e+04   \n",
       "\n",
       "                                                  lyrics  n_playlist  \\\n",
       "64243   Start spreading the news, I'm leaving today I...           2   \n",
       "35778                                                              1   \n",
       "48452                                                              1   \n",
       "\n",
       "       tt_score                                        song_by    rating  \\\n",
       "64243  4.199985  Theme From New York New York by Frank Sinatra  1.161704   \n",
       "35778  3.783177               We Nah Listen by Various Artists  0.823727   \n",
       "48452  1.617750                Adi Shakti by Matthew Schoening  1.138389   \n",
       "\n",
       "       playlist_mean_tt  item  user     label  \n",
       "64243          3.817785   395   259  1.100110  \n",
       "35778          4.818398  2985    70  0.785153  \n",
       "48452          1.062285  5416   128  1.522897  \n",
       "\n",
       "[3 rows x 32 columns]"
      ]
     },
     "execution_count": 9,
     "metadata": {},
     "output_type": "execute_result"
    }
   ],
   "source": [
    "light_df.head(3)"
   ]
  },
  {
   "cell_type": "code",
   "execution_count": 10,
   "metadata": {},
   "outputs": [
    {
     "data": {
      "text/html": [
       "<div>\n",
       "<style scoped>\n",
       "    .dataframe tbody tr th:only-of-type {\n",
       "        vertical-align: middle;\n",
       "    }\n",
       "\n",
       "    .dataframe tbody tr th {\n",
       "        vertical-align: top;\n",
       "    }\n",
       "\n",
       "    .dataframe thead th {\n",
       "        text-align: right;\n",
       "    }\n",
       "</style>\n",
       "<table border=\"1\" class=\"dataframe\">\n",
       "  <thead>\n",
       "    <tr style=\"text-align: right;\">\n",
       "      <th></th>\n",
       "      <th>playlist_uris</th>\n",
       "      <th>tracks_count</th>\n",
       "      <th>mean_popularity</th>\n",
       "      <th>mean_danceability</th>\n",
       "      <th>mean_energy</th>\n",
       "      <th>mean_key</th>\n",
       "      <th>mean_loudness</th>\n",
       "      <th>mean_mode</th>\n",
       "      <th>mean_speechiness</th>\n",
       "      <th>mean_acousticness</th>\n",
       "      <th>mean_instrumentalness</th>\n",
       "      <th>mean_liveness</th>\n",
       "      <th>mean_valence</th>\n",
       "      <th>mean_tempo</th>\n",
       "      <th>mean_duration_ms</th>\n",
       "      <th>mean_time_signature</th>\n",
       "      <th>mean_release_year</th>\n",
       "      <th>artists_mean_popularities</th>\n",
       "      <th>artists_mean_followers</th>\n",
       "    </tr>\n",
       "  </thead>\n",
       "  <tbody>\n",
       "    <tr>\n",
       "      <th>0</th>\n",
       "      <td>spotify:playlist:57uLNiwAaVFJxEMkSq0GeQ</td>\n",
       "      <td>100</td>\n",
       "      <td>66.39</td>\n",
       "      <td>0.73277</td>\n",
       "      <td>0.64473</td>\n",
       "      <td>5.29</td>\n",
       "      <td>-5.93997</td>\n",
       "      <td>0.44</td>\n",
       "      <td>0.180749</td>\n",
       "      <td>0.169474</td>\n",
       "      <td>0.003714</td>\n",
       "      <td>0.193195</td>\n",
       "      <td>0.483453</td>\n",
       "      <td>127.86138</td>\n",
       "      <td>191024.08</td>\n",
       "      <td>4.00</td>\n",
       "      <td>2017.93</td>\n",
       "      <td>78.345000</td>\n",
       "      <td>1.477129e+07</td>\n",
       "    </tr>\n",
       "    <tr>\n",
       "      <th>1</th>\n",
       "      <td>spotify:playlist:37i9dQZF1DWUMIjnZuaulx</td>\n",
       "      <td>100</td>\n",
       "      <td>35.27</td>\n",
       "      <td>0.44872</td>\n",
       "      <td>0.68730</td>\n",
       "      <td>4.38</td>\n",
       "      <td>-6.19532</td>\n",
       "      <td>0.78</td>\n",
       "      <td>0.092676</td>\n",
       "      <td>0.223017</td>\n",
       "      <td>0.000874</td>\n",
       "      <td>0.276295</td>\n",
       "      <td>0.438595</td>\n",
       "      <td>119.41352</td>\n",
       "      <td>310215.35</td>\n",
       "      <td>3.81</td>\n",
       "      <td>2021.98</td>\n",
       "      <td>38.043333</td>\n",
       "      <td>2.307189e+05</td>\n",
       "    </tr>\n",
       "    <tr>\n",
       "      <th>2</th>\n",
       "      <td>spotify:playlist:0tkRbaSwTy9lwAw66vCCIq</td>\n",
       "      <td>100</td>\n",
       "      <td>31.90</td>\n",
       "      <td>0.51413</td>\n",
       "      <td>0.79106</td>\n",
       "      <td>5.30</td>\n",
       "      <td>-6.82274</td>\n",
       "      <td>0.67</td>\n",
       "      <td>0.052334</td>\n",
       "      <td>0.089875</td>\n",
       "      <td>0.040260</td>\n",
       "      <td>0.215140</td>\n",
       "      <td>0.608940</td>\n",
       "      <td>126.28446</td>\n",
       "      <td>231490.64</td>\n",
       "      <td>3.99</td>\n",
       "      <td>2001.05</td>\n",
       "      <td>62.520000</td>\n",
       "      <td>3.702412e+06</td>\n",
       "    </tr>\n",
       "  </tbody>\n",
       "</table>\n",
       "</div>"
      ],
      "text/plain": [
       "                             playlist_uris  tracks_count  mean_popularity  \\\n",
       "0  spotify:playlist:57uLNiwAaVFJxEMkSq0GeQ           100            66.39   \n",
       "1  spotify:playlist:37i9dQZF1DWUMIjnZuaulx           100            35.27   \n",
       "2  spotify:playlist:0tkRbaSwTy9lwAw66vCCIq           100            31.90   \n",
       "\n",
       "   mean_danceability  mean_energy  mean_key  mean_loudness  mean_mode  \\\n",
       "0            0.73277      0.64473      5.29       -5.93997       0.44   \n",
       "1            0.44872      0.68730      4.38       -6.19532       0.78   \n",
       "2            0.51413      0.79106      5.30       -6.82274       0.67   \n",
       "\n",
       "   mean_speechiness  mean_acousticness  mean_instrumentalness  mean_liveness  \\\n",
       "0          0.180749           0.169474               0.003714       0.193195   \n",
       "1          0.092676           0.223017               0.000874       0.276295   \n",
       "2          0.052334           0.089875               0.040260       0.215140   \n",
       "\n",
       "   mean_valence  mean_tempo  mean_duration_ms  mean_time_signature  \\\n",
       "0      0.483453   127.86138         191024.08                 4.00   \n",
       "1      0.438595   119.41352         310215.35                 3.81   \n",
       "2      0.608940   126.28446         231490.64                 3.99   \n",
       "\n",
       "   mean_release_year  artists_mean_popularities  artists_mean_followers  \n",
       "0            2017.93                  78.345000            1.477129e+07  \n",
       "1            2021.98                  38.043333            2.307189e+05  \n",
       "2            2001.05                  62.520000            3.702412e+06  "
      ]
     },
     "execution_count": 10,
     "metadata": {},
     "output_type": "execute_result"
    }
   ],
   "source": [
    "playlist_df = pd.read_csv('datasets/spot_playlists_mean_numeric_data.csv')\n",
    "playlist_df.head(3)"
   ]
  },
  {
   "cell_type": "code",
   "execution_count": 11,
   "metadata": {},
   "outputs": [],
   "source": [
    "merged_df = light_df.merge(playlist_df, left_on='playlist_uris', right_on='playlist_uris', how='outer')"
   ]
  },
  {
   "cell_type": "code",
   "execution_count": 12,
   "metadata": {},
   "outputs": [],
   "source": [
    "all_playlist_track_count = sorted(list(set(merged_df['tracks_count'])))"
   ]
  },
  {
   "cell_type": "code",
   "execution_count": 13,
   "metadata": {},
   "outputs": [
    {
     "name": "stdout",
     "output_type": "stream",
     "text": [
      "length of unique track count: 100\n"
     ]
    }
   ],
   "source": [
    "print(f'length of unique track count: {len(all_playlist_track_count)}')"
   ]
  },
  {
   "cell_type": "code",
   "execution_count": 14,
   "metadata": {},
   "outputs": [],
   "source": [
    "column_name_mapping = {'playlist_uris': 'userID', 'track_uri': 'itemID'}\n",
    "\n",
    "# Use the rename method to rename columns\n",
    "merged_df.rename(columns=column_name_mapping, inplace=True)\n",
    "merged_df = merged_df[['userID','itemID','artists_genres','tracks_count','label']]"
   ]
  },
  {
   "cell_type": "code",
   "execution_count": 15,
   "metadata": {},
   "outputs": [],
   "source": [
    "dataset = Dataset()\n",
    "dataset.fit(merged_df['userID'], \n",
    "            merged_df['itemID'], \n",
    "            item_features=all_track_genre,\n",
    "            user_features=all_playlist_track_count)"
   ]
  },
  {
   "cell_type": "code",
   "execution_count": 16,
   "metadata": {},
   "outputs": [],
   "source": [
    "item_features = dataset.build_item_features((x, y) for x,y in zip(merged_df.itemID, track_genre))\n"
   ]
  },
  {
   "cell_type": "code",
   "execution_count": 17,
   "metadata": {},
   "outputs": [],
   "source": [
    "user_features = dataset.build_user_features((x, [y]) for x,y in zip(merged_df.userID, merged_df['tracks_count']))\n"
   ]
  },
  {
   "cell_type": "code",
   "execution_count": 18,
   "metadata": {},
   "outputs": [
    {
     "data": {
      "text/html": [
       "<div>\n",
       "<style scoped>\n",
       "    .dataframe tbody tr th:only-of-type {\n",
       "        vertical-align: middle;\n",
       "    }\n",
       "\n",
       "    .dataframe tbody tr th {\n",
       "        vertical-align: top;\n",
       "    }\n",
       "\n",
       "    .dataframe thead th {\n",
       "        text-align: right;\n",
       "    }\n",
       "</style>\n",
       "<table border=\"1\" class=\"dataframe\">\n",
       "  <thead>\n",
       "    <tr style=\"text-align: right;\">\n",
       "      <th></th>\n",
       "      <th>userID</th>\n",
       "      <th>itemID</th>\n",
       "      <th>artists_genres</th>\n",
       "      <th>tracks_count</th>\n",
       "      <th>label</th>\n",
       "    </tr>\n",
       "  </thead>\n",
       "  <tbody>\n",
       "    <tr>\n",
       "      <th>0</th>\n",
       "      <td>spotify:playlist:2jogTm047kymef0a52SbjW</td>\n",
       "      <td>spotify:track:0K2WjMLZYr09LKwurGRYRE</td>\n",
       "      <td>['easy', 'standards', 'adult', 'lounge', 'list...</td>\n",
       "      <td>100</td>\n",
       "      <td>1.100110</td>\n",
       "    </tr>\n",
       "    <tr>\n",
       "      <th>1</th>\n",
       "      <td>spotify:playlist:2jogTm047kymef0a52SbjW</td>\n",
       "      <td>spotify:track:4dt6XKr0xKdPzjFhwB8dBm</td>\n",
       "      <td>['easy', 'standards', 'adult', 'lounge', 'list...</td>\n",
       "      <td>100</td>\n",
       "      <td>1.215333</td>\n",
       "    </tr>\n",
       "  </tbody>\n",
       "</table>\n",
       "</div>"
      ],
      "text/plain": [
       "                                    userID  \\\n",
       "0  spotify:playlist:2jogTm047kymef0a52SbjW   \n",
       "1  spotify:playlist:2jogTm047kymef0a52SbjW   \n",
       "\n",
       "                                 itemID  \\\n",
       "0  spotify:track:0K2WjMLZYr09LKwurGRYRE   \n",
       "1  spotify:track:4dt6XKr0xKdPzjFhwB8dBm   \n",
       "\n",
       "                                      artists_genres  tracks_count     label  \n",
       "0  ['easy', 'standards', 'adult', 'lounge', 'list...           100  1.100110  \n",
       "1  ['easy', 'standards', 'adult', 'lounge', 'list...           100  1.215333  "
      ]
     },
     "execution_count": 18,
     "metadata": {},
     "output_type": "execute_result"
    }
   ],
   "source": [
    "merged_df.head(2)"
   ]
  },
  {
   "cell_type": "code",
   "execution_count": 19,
   "metadata": {},
   "outputs": [],
   "source": [
    "interactions, weights = dataset.build_interactions(merged_df.loc[:, ['userID','itemID','label']].values)\n",
    "\n",
    "train_interactions, test_interactions = cross_validation.random_train_test_split(\n",
    "    interactions, \n",
    "    test_percentage=0.2,\n",
    "    random_state=np.random.RandomState(42)\n",
    ")"
   ]
  },
  {
   "cell_type": "code",
   "execution_count": 20,
   "metadata": {},
   "outputs": [],
   "source": [
    "# default number of recommendations\n",
    "K = 10\n",
    "# percentage of data used for testing\n",
    "TEST_PERCENTAGE = 0.2\n",
    "# model learning rate\n",
    "LEARNING_RATE = 0.05\n",
    "# no of latent factors\n",
    "NO_COMPONENTS = 5\n",
    "# no of epochs to fit model\n",
    "NO_EPOCHS = 10\n",
    "# no of threads to fit model\n",
    "NO_THREADS = 8\n",
    "# regularisation for both user and item features\n",
    "ITEM_ALPHA = 1e-6\n",
    "USER_ALPHA = 1e-6\n",
    "\n",
    "# seed for pseudonumber generations\n",
    "SEED = 42"
   ]
  },
  {
   "cell_type": "code",
   "execution_count": 21,
   "metadata": {},
   "outputs": [],
   "source": [
    "model = LightFM(loss='logistic', \n",
    "                 no_components=NO_COMPONENTS, \n",
    "                 learning_rate=LEARNING_RATE, \n",
    "                 item_alpha=ITEM_ALPHA,\n",
    "                 user_alpha=USER_ALPHA,\n",
    "                 random_state=np.random.RandomState(SEED),\n",
    "                 k=5, n=5\n",
    "                )"
   ]
  },
  {
   "cell_type": "code",
   "execution_count": 22,
   "metadata": {},
   "outputs": [
    {
     "data": {
      "text/plain": [
       "<lightfm.lightfm.LightFM at 0x2573fa8eeb0>"
      ]
     },
     "execution_count": 22,
     "metadata": {},
     "output_type": "execute_result"
    }
   ],
   "source": [
    "model.fit(interactions=train_interactions,\n",
    "           user_features=user_features,\n",
    "           item_features=item_features,\n",
    "           epochs=NO_EPOCHS\n",
    "           )"
   ]
  },
  {
   "cell_type": "markdown",
   "metadata": {},
   "source": [
    "Prepare model evaluation data"
   ]
  },
  {
   "cell_type": "code",
   "execution_count": 23,
   "metadata": {},
   "outputs": [],
   "source": [
    "uids, iids, interaction_data = cross_validation._shuffle(\n",
    "    interactions.row, \n",
    "    interactions.col, \n",
    "    interactions.data, \n",
    "    random_state=np.random.RandomState(SEED)\n",
    ")\n",
    "\n",
    "uid_map, ufeature_map, iid_map, ifeature_map = dataset.mapping()"
   ]
  },
  {
   "cell_type": "code",
   "execution_count": 24,
   "metadata": {},
   "outputs": [],
   "source": [
    "cutoff = int((1.0 - TEST_PERCENTAGE) * len(uids))\n",
    "test_idx = slice(cutoff, None)"
   ]
  },
  {
   "cell_type": "code",
   "execution_count": 25,
   "metadata": {},
   "outputs": [],
   "source": [
    "from recommenders.utils.timer import Timer\n",
    "from recommenders.datasets import movielens\n",
    "from recommenders.models.lightfm.lightfm_utils import (\n",
    "    track_model_metrics, prepare_test_df, prepare_all_predictions,\n",
    "    compare_metric, similar_users, similar_items)"
   ]
  },
  {
   "cell_type": "code",
   "execution_count": 26,
   "metadata": {},
   "outputs": [
    {
     "name": "stdout",
     "output_type": "stream",
     "text": [
      "Took 0.9 seconds for prepare and predict test data.\n"
     ]
    }
   ],
   "source": [
    "with Timer() as test_time:\n",
    "    test_df = prepare_test_df(test_idx, uids, iids, uid_map, iid_map, weights)\n",
    "print(f\"Took {test_time.interval:.1f} seconds for prepare and predict test data.\")  "
   ]
  },
  {
   "cell_type": "code",
   "execution_count": 27,
   "metadata": {},
   "outputs": [
    {
     "name": "stdout",
     "output_type": "stream",
     "text": [
      "Took 5534.8 seconds for prepare and predict all data.\n"
     ]
    }
   ],
   "source": [
    "with Timer() as test_time:\n",
    "    all_predictions2 = prepare_all_predictions(merged_df, uid_map, iid_map, \n",
    "                                              interactions=train_interactions,\n",
    "                                               user_features=user_features,\n",
    "                                               item_features=item_features,\n",
    "                                               model=model,\n",
    "                                               num_threads=4)\n",
    "\n",
    "print(f\"Took {test_time.interval:.1f} seconds for prepare and predict all data.\")"
   ]
  },
  {
   "cell_type": "code",
   "execution_count": 28,
   "metadata": {},
   "outputs": [],
   "source": [
    "from recommenders.evaluation.python_evaluation import precision_at_k, recall_at_k\n"
   ]
  },
  {
   "cell_type": "code",
   "execution_count": 29,
   "metadata": {},
   "outputs": [
    {
     "name": "stdout",
     "output_type": "stream",
     "text": [
      "\n",
      "------ Using both implicit and explicit ratings ------\n",
      "Precision@K:\t0.058153\n",
      "Recall@K:\t0.580589\n"
     ]
    }
   ],
   "source": [
    "eval_precision2 = precision_at_k(rating_true=test_df, \n",
    "                                rating_pred=all_predictions2, k=K)\n",
    "eval_recall2 = recall_at_k(test_df, all_predictions2, k=K)\n",
    "\n",
    "print(\n",
    "    \"\\n------ Using both implicit and explicit ratings ------\",\n",
    "    f\"Precision@K:\\t{eval_precision2:.6f}\",\n",
    "    f\"Recall@K:\\t{eval_recall2:.6f}\",\n",
    "    sep='\\n')"
   ]
  }
 ],
 "metadata": {
  "kernelspec": {
   "display_name": "fintech",
   "language": "python",
   "name": "python3"
  },
  "language_info": {
   "codemirror_mode": {
    "name": "ipython",
    "version": 3
   },
   "file_extension": ".py",
   "mimetype": "text/x-python",
   "name": "python",
   "nbconvert_exporter": "python",
   "pygments_lexer": "ipython3",
   "version": "3.8.8"
  }
 },
 "nbformat": 4,
 "nbformat_minor": 2
}
